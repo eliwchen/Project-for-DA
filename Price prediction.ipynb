{
 "cells": [
  {
   "cell_type": "markdown",
   "metadata": {},
   "source": [
    "# 1. Featrue Engineering"
   ]
  },
  {
   "cell_type": "code",
   "execution_count": 132,
   "metadata": {},
   "outputs": [],
   "source": [
    "import warnings \n",
    "warnings.filterwarnings('ignore')\n",
    "import pandas as pd\n",
    "import numpy as np\n",
    "from scipy import stats\n",
    "import matplotlib.pyplot as plt\n",
    "%matplotlib inline\n",
    "import seaborn as sns\n",
    "import missingno as msno\n",
    "import re\n",
    "import pandas_profiling\n",
    "import joblib\n",
    "import time\n",
    "import sys\n",
    "import lightgbm as lgb\n",
    "import xgboost as xgb \n",
    "import catboost as cab\n",
    "import my_functions as my\n",
    "from sklearn.preprocessing import LabelEncoder\n",
    "from sklearn.model_selection import train_test_split,StratifiedKFold,GridSearchCV\n",
    "from sklearn.model_selection import KFold,cross_val_score\n",
    "from sklearn.metrics import make_scorer,accuracy_score,confusion_matrix, mean_squared_error,roc_auc_score ,mean_absolute_error # 评估标准\n",
    "sns.set_style(\"ticks\") # dark/white/darkgrid/whitegrid"
   ]
  },
  {
   "cell_type": "markdown",
   "metadata": {},
   "source": [
    "## 1.1 Data Pre-Processing"
   ]
  },
  {
   "cell_type": "code",
   "execution_count": 51,
   "metadata": {},
   "outputs": [],
   "source": [
    " # 5折交叉验证\n",
    "def kvalid(train_x,bc_y_train,k=5):\n",
    "    kf = KFold(n_splits=k, random_state=42)  # sklearn的交叉验证模块，用于划分数据\n",
    "    MAE=[]\n",
    "     # 交叉验证划分此时的训练集和验证集\n",
    "    for train, test in kf.split(train_x):\n",
    "        kf_X_tr = train_x.iloc[train]  # 训练集集\n",
    "        kf_y_tr = bc_y_train[train]    # 训练集标签值\n",
    "        kf_X_val =train_x.iloc[test]  # 验证集\n",
    "        kf_y_val = bc_y_train[test]    # 验证集标签值\n",
    "        clf = lgb.LGBMRegressor(objective='regression',metric= 'mae',silent=1,num_leaves=80,learning_rate=0.03, n_estimators=300)\n",
    "        clf.fit(kf_X_tr,kf_y_tr,categorical_feature=cat_feat,verbose=0) \n",
    "        result=clf.predict(kf_X_val)\n",
    "        MAE.append(mean_absolute_error(bcback(kf_y_val,maxlog),bcback(result,maxlog)))\n",
    "    return {\"MAE\":round(np.mean(MAE),2)}"
   ]
  },
  {
   "cell_type": "code",
   "execution_count": 3,
   "metadata": {},
   "outputs": [
    {
     "name": "stdout",
     "output_type": "stream",
     "text": [
      "Memory usage of dataframe is 37200128.00 MB\n",
      "Memory usage after optimization is: 10200232.00 MB\n",
      "Decreased by 72.6%\n",
      "Memory usage of dataframe is 12000128.00 MB\n",
      "Memory usage after optimization is: 3200232.00 MB\n",
      "Decreased by 73.3%\n"
     ]
    }
   ],
   "source": [
    "train=my.reduce_mem_usage(pd.read_csv(\"used_car_train_20200313.csv\",sep=\" \"))\n",
    "test=my.reduce_mem_usage(pd.read_csv(\"used_car_testB_20200421.csv\",sep=\" \"))"
   ]
  },
  {
   "cell_type": "markdown",
   "metadata": {},
   "source": [
    "### 1.1.1 Dirty data"
   ]
  },
  {
   "cell_type": "code",
   "execution_count": 4,
   "metadata": {},
   "outputs": [],
   "source": [
    "data=pd.concat([train,test])\n",
    "data=data.replace(\"-\",np.nan)"
   ]
  },
  {
   "cell_type": "code",
   "execution_count": 5,
   "metadata": {},
   "outputs": [],
   "source": [
    "data.drop([\"offerType\",\"seller\"],axis=1,inplace=True)"
   ]
  },
  {
   "cell_type": "markdown",
   "metadata": {},
   "source": [
    "### 1.1.2 Missing value"
   ]
  },
  {
   "cell_type": "markdown",
   "metadata": {},
   "source": [
    "* 删除缺失率>=0.6的特征"
   ]
  },
  {
   "cell_type": "code",
   "execution_count": 6,
   "metadata": {},
   "outputs": [
    {
     "data": {
      "text/html": [
       "<div>\n",
       "<style scoped>\n",
       "    .dataframe tbody tr th:only-of-type {\n",
       "        vertical-align: middle;\n",
       "    }\n",
       "\n",
       "    .dataframe tbody tr th {\n",
       "        vertical-align: top;\n",
       "    }\n",
       "\n",
       "    .dataframe thead th {\n",
       "        text-align: right;\n",
       "    }\n",
       "</style>\n",
       "<table border=\"1\" class=\"dataframe\">\n",
       "  <thead>\n",
       "    <tr style=\"text-align: right;\">\n",
       "      <th></th>\n",
       "      <th>0</th>\n",
       "      <th>nullrate</th>\n",
       "      <th>nullrate%</th>\n",
       "    </tr>\n",
       "  </thead>\n",
       "  <tbody>\n",
       "    <tr>\n",
       "      <th>price</th>\n",
       "      <td>50000</td>\n",
       "      <td>0.250000</td>\n",
       "      <td>25.00</td>\n",
       "    </tr>\n",
       "    <tr>\n",
       "      <th>notRepairedDamage</th>\n",
       "      <td>32393</td>\n",
       "      <td>0.161965</td>\n",
       "      <td>16.20</td>\n",
       "    </tr>\n",
       "    <tr>\n",
       "      <th>fuelType</th>\n",
       "      <td>11604</td>\n",
       "      <td>0.058020</td>\n",
       "      <td>5.80</td>\n",
       "    </tr>\n",
       "    <tr>\n",
       "      <th>gearbox</th>\n",
       "      <td>7949</td>\n",
       "      <td>0.039745</td>\n",
       "      <td>3.97</td>\n",
       "    </tr>\n",
       "    <tr>\n",
       "      <th>bodyType</th>\n",
       "      <td>6010</td>\n",
       "      <td>0.030050</td>\n",
       "      <td>3.00</td>\n",
       "    </tr>\n",
       "    <tr>\n",
       "      <th>model</th>\n",
       "      <td>1</td>\n",
       "      <td>0.000005</td>\n",
       "      <td>0.00</td>\n",
       "    </tr>\n",
       "  </tbody>\n",
       "</table>\n",
       "</div>"
      ],
      "text/plain": [
       "                       0  nullrate  nullrate%\n",
       "price              50000  0.250000      25.00\n",
       "notRepairedDamage  32393  0.161965      16.20\n",
       "fuelType           11604  0.058020       5.80\n",
       "gearbox             7949  0.039745       3.97\n",
       "bodyType            6010  0.030050       3.00\n",
       "model                  1  0.000005       0.00"
      ]
     },
     "execution_count": 6,
     "metadata": {},
     "output_type": "execute_result"
    }
   ],
   "source": [
    "my.Nullrate(data)"
   ]
  },
  {
   "cell_type": "markdown",
   "metadata": {},
   "source": [
    "* 不处理（树模型能自动处理缺失值）"
   ]
  },
  {
   "cell_type": "markdown",
   "metadata": {},
   "source": [
    "* 插值补全：\n",
    "    * 包括均值/中位数/众数/建模预测（k近邻/随机森林/lgb等）/多重插补/压缩感知补全/矩阵补全等；\n",
    "    * 根据其它强相关特征对该特征进行数据分箱,然后选择该特征所在分箱的相应特征的均值或中位数,来填充缺失值；\n",
    "    * 高级填充方法可参考fancyimpute库。fancyimpute主要提供以下几种填充方式： KNN、 NuclearNormMinimization、SoftImpute、IterativeImputer、BiScaler"
   ]
  },
  {
   "cell_type": "code",
   "execution_count": 8,
   "metadata": {},
   "outputs": [],
   "source": [
    "mls=my.Nullrate(data).index.tolist()\n",
    "mls.remove(\"price\")\n",
    "for i in mls:\n",
    "    data[i].fillna(data[i].mode()[0],inplace=True)"
   ]
  },
  {
   "cell_type": "markdown",
   "metadata": {},
   "source": [
    "### 1.1.3 Outlier"
   ]
  },
  {
   "cell_type": "code",
   "execution_count": 9,
   "metadata": {},
   "outputs": [
    {
     "data": {
      "text/plain": [
       "Index(['SaleID', 'name', 'regDate', 'model', 'brand', 'bodyType', 'fuelType',\n",
       "       'gearbox', 'power', 'kilometer', 'notRepairedDamage', 'regionCode',\n",
       "       'creatDate', 'price', 'v_0', 'v_1', 'v_2', 'v_3', 'v_4', 'v_5', 'v_6',\n",
       "       'v_7', 'v_8', 'v_9', 'v_10', 'v_11', 'v_12', 'v_13', 'v_14'],\n",
       "      dtype='object')"
      ]
     },
     "execution_count": 9,
     "metadata": {},
     "output_type": "execute_result"
    }
   ],
   "source": [
    "data.columns"
   ]
  },
  {
   "cell_type": "code",
   "execution_count": 10,
   "metadata": {},
   "outputs": [],
   "source": [
    "label=\"price\"\n",
    "ID_feat=['SaleID']\n",
    "date_feat=['regDate','creatDate']\n",
    "cat_feat=[ 'name',  'model', 'brand', 'bodyType', 'fuelType','gearbox', 'notRepairedDamage', 'regionCode']\n",
    "num_feat=[i for i in data.columns if i not in cat_feat+[label]+date_feat+ID_feat]"
   ]
  },
  {
   "cell_type": "code",
   "execution_count": 11,
   "metadata": {},
   "outputs": [
    {
     "data": {
      "text/html": [
       "<div>\n",
       "<style scoped>\n",
       "    .dataframe tbody tr th:only-of-type {\n",
       "        vertical-align: middle;\n",
       "    }\n",
       "\n",
       "    .dataframe tbody tr th {\n",
       "        vertical-align: top;\n",
       "    }\n",
       "\n",
       "    .dataframe thead th {\n",
       "        text-align: right;\n",
       "    }\n",
       "</style>\n",
       "<table border=\"1\" class=\"dataframe\">\n",
       "  <thead>\n",
       "    <tr style=\"text-align: right;\">\n",
       "      <th></th>\n",
       "      <th>power</th>\n",
       "      <th>kilometer</th>\n",
       "      <th>v_0</th>\n",
       "      <th>v_1</th>\n",
       "      <th>v_2</th>\n",
       "      <th>v_3</th>\n",
       "      <th>v_4</th>\n",
       "      <th>v_5</th>\n",
       "      <th>v_6</th>\n",
       "      <th>v_7</th>\n",
       "      <th>v_8</th>\n",
       "      <th>v_9</th>\n",
       "      <th>v_10</th>\n",
       "      <th>v_11</th>\n",
       "      <th>v_12</th>\n",
       "      <th>v_13</th>\n",
       "      <th>v_14</th>\n",
       "    </tr>\n",
       "  </thead>\n",
       "  <tbody>\n",
       "    <tr>\n",
       "      <th>count</th>\n",
       "      <td>200000.000000</td>\n",
       "      <td>200000.0</td>\n",
       "      <td>200000.000000</td>\n",
       "      <td>200000.000000</td>\n",
       "      <td>200000.000000</td>\n",
       "      <td>200000.000000</td>\n",
       "      <td>200000.000000</td>\n",
       "      <td>200000.000000</td>\n",
       "      <td>200000.000000</td>\n",
       "      <td>200000.000000</td>\n",
       "      <td>200000.000000</td>\n",
       "      <td>200000.000000</td>\n",
       "      <td>200000.000000</td>\n",
       "      <td>200000.000000</td>\n",
       "      <td>200000.000000</td>\n",
       "      <td>200000.000000</td>\n",
       "      <td>200000.000000</td>\n",
       "    </tr>\n",
       "    <tr>\n",
       "      <th>mean</th>\n",
       "      <td>119.429150</td>\n",
       "      <td>NaN</td>\n",
       "      <td>NaN</td>\n",
       "      <td>-0.000000</td>\n",
       "      <td>0.000000</td>\n",
       "      <td>0.000000</td>\n",
       "      <td>0.000000</td>\n",
       "      <td>0.000000</td>\n",
       "      <td>0.000000</td>\n",
       "      <td>0.000000</td>\n",
       "      <td>0.000000</td>\n",
       "      <td>0.000000</td>\n",
       "      <td>0.000000</td>\n",
       "      <td>0.000000</td>\n",
       "      <td>0.000000</td>\n",
       "      <td>0.000000</td>\n",
       "      <td>-0.000000</td>\n",
       "    </tr>\n",
       "    <tr>\n",
       "      <th>std</th>\n",
       "      <td>184.885438</td>\n",
       "      <td>0.0</td>\n",
       "      <td>0.000000</td>\n",
       "      <td>0.000000</td>\n",
       "      <td>0.000000</td>\n",
       "      <td>0.000000</td>\n",
       "      <td>0.000000</td>\n",
       "      <td>0.000000</td>\n",
       "      <td>0.000000</td>\n",
       "      <td>0.000000</td>\n",
       "      <td>0.000000</td>\n",
       "      <td>0.000000</td>\n",
       "      <td>0.000000</td>\n",
       "      <td>0.000000</td>\n",
       "      <td>0.000000</td>\n",
       "      <td>0.000000</td>\n",
       "      <td>0.000000</td>\n",
       "    </tr>\n",
       "    <tr>\n",
       "      <th>min</th>\n",
       "      <td>0.000000</td>\n",
       "      <td>0.5</td>\n",
       "      <td>30.453125</td>\n",
       "      <td>-4.296875</td>\n",
       "      <td>-4.468750</td>\n",
       "      <td>-7.273438</td>\n",
       "      <td>-4.363281</td>\n",
       "      <td>0.000000</td>\n",
       "      <td>0.000000</td>\n",
       "      <td>0.000000</td>\n",
       "      <td>0.000000</td>\n",
       "      <td>0.000000</td>\n",
       "      <td>-9.171875</td>\n",
       "      <td>-5.664062</td>\n",
       "      <td>-9.640625</td>\n",
       "      <td>-4.156250</td>\n",
       "      <td>-6.546875</td>\n",
       "    </tr>\n",
       "    <tr>\n",
       "      <th>5%</th>\n",
       "      <td>0.000000</td>\n",
       "      <td>4.0</td>\n",
       "      <td>41.000000</td>\n",
       "      <td>-3.314453</td>\n",
       "      <td>-1.781250</td>\n",
       "      <td>-3.173828</td>\n",
       "      <td>-1.693359</td>\n",
       "      <td>0.227051</td>\n",
       "      <td>0.000000</td>\n",
       "      <td>0.007236</td>\n",
       "      <td>0.013634</td>\n",
       "      <td>0.009583</td>\n",
       "      <td>-5.656250</td>\n",
       "      <td>-3.378906</td>\n",
       "      <td>-3.787109</td>\n",
       "      <td>-1.927734</td>\n",
       "      <td>-2.119141</td>\n",
       "    </tr>\n",
       "    <tr>\n",
       "      <th>25%</th>\n",
       "      <td>75.000000</td>\n",
       "      <td>12.5</td>\n",
       "      <td>43.125000</td>\n",
       "      <td>-3.193359</td>\n",
       "      <td>-0.969727</td>\n",
       "      <td>-1.460938</td>\n",
       "      <td>-0.921387</td>\n",
       "      <td>0.243530</td>\n",
       "      <td>0.000038</td>\n",
       "      <td>0.062469</td>\n",
       "      <td>0.035339</td>\n",
       "      <td>0.033905</td>\n",
       "      <td>-3.708984</td>\n",
       "      <td>-1.954102</td>\n",
       "      <td>-1.870117</td>\n",
       "      <td>-1.055664</td>\n",
       "      <td>-0.437988</td>\n",
       "    </tr>\n",
       "    <tr>\n",
       "      <th>50%</th>\n",
       "      <td>110.000000</td>\n",
       "      <td>15.0</td>\n",
       "      <td>44.593750</td>\n",
       "      <td>-3.052734</td>\n",
       "      <td>-0.383301</td>\n",
       "      <td>0.103363</td>\n",
       "      <td>-0.074219</td>\n",
       "      <td>0.257812</td>\n",
       "      <td>0.000809</td>\n",
       "      <td>0.095886</td>\n",
       "      <td>0.056976</td>\n",
       "      <td>0.058563</td>\n",
       "      <td>1.625977</td>\n",
       "      <td>-0.362305</td>\n",
       "      <td>-0.133423</td>\n",
       "      <td>-0.036270</td>\n",
       "      <td>0.140259</td>\n",
       "    </tr>\n",
       "    <tr>\n",
       "      <th>75%</th>\n",
       "      <td>150.000000</td>\n",
       "      <td>15.0</td>\n",
       "      <td>46.000000</td>\n",
       "      <td>3.996094</td>\n",
       "      <td>0.240997</td>\n",
       "      <td>1.565430</td>\n",
       "      <td>0.869263</td>\n",
       "      <td>0.265381</td>\n",
       "      <td>0.101929</td>\n",
       "      <td>0.125366</td>\n",
       "      <td>0.079407</td>\n",
       "      <td>0.087524</td>\n",
       "      <td>2.844238</td>\n",
       "      <td>1.256836</td>\n",
       "      <td>1.776367</td>\n",
       "      <td>0.942871</td>\n",
       "      <td>0.681641</td>\n",
       "    </tr>\n",
       "    <tr>\n",
       "      <th>95%</th>\n",
       "      <td>232.000000</td>\n",
       "      <td>15.0</td>\n",
       "      <td>47.750000</td>\n",
       "      <td>5.152344</td>\n",
       "      <td>1.227588</td>\n",
       "      <td>3.341797</td>\n",
       "      <td>2.107422</td>\n",
       "      <td>0.277832</td>\n",
       "      <td>0.119568</td>\n",
       "      <td>0.168213</td>\n",
       "      <td>0.108765</td>\n",
       "      <td>0.125000</td>\n",
       "      <td>4.054883</td>\n",
       "      <td>2.841797</td>\n",
       "      <td>4.097656</td>\n",
       "      <td>2.187500</td>\n",
       "      <td>1.364258</td>\n",
       "    </tr>\n",
       "    <tr>\n",
       "      <th>max</th>\n",
       "      <td>19312.000000</td>\n",
       "      <td>15.0</td>\n",
       "      <td>52.312500</td>\n",
       "      <td>7.320312</td>\n",
       "      <td>19.031250</td>\n",
       "      <td>9.851562</td>\n",
       "      <td>6.828125</td>\n",
       "      <td>0.291748</td>\n",
       "      <td>0.153442</td>\n",
       "      <td>1.411133</td>\n",
       "      <td>0.160767</td>\n",
       "      <td>0.222778</td>\n",
       "      <td>12.359375</td>\n",
       "      <td>18.812500</td>\n",
       "      <td>13.851562</td>\n",
       "      <td>11.148438</td>\n",
       "      <td>8.656250</td>\n",
       "    </tr>\n",
       "  </tbody>\n",
       "</table>\n",
       "</div>"
      ],
      "text/plain": [
       "               power  kilometer            v_0            v_1            v_2  \\\n",
       "count  200000.000000   200000.0  200000.000000  200000.000000  200000.000000   \n",
       "mean      119.429150        NaN            NaN      -0.000000       0.000000   \n",
       "std       184.885438        0.0       0.000000       0.000000       0.000000   \n",
       "min         0.000000        0.5      30.453125      -4.296875      -4.468750   \n",
       "5%          0.000000        4.0      41.000000      -3.314453      -1.781250   \n",
       "25%        75.000000       12.5      43.125000      -3.193359      -0.969727   \n",
       "50%       110.000000       15.0      44.593750      -3.052734      -0.383301   \n",
       "75%       150.000000       15.0      46.000000       3.996094       0.240997   \n",
       "95%       232.000000       15.0      47.750000       5.152344       1.227588   \n",
       "max     19312.000000       15.0      52.312500       7.320312      19.031250   \n",
       "\n",
       "                 v_3            v_4            v_5            v_6  \\\n",
       "count  200000.000000  200000.000000  200000.000000  200000.000000   \n",
       "mean        0.000000       0.000000       0.000000       0.000000   \n",
       "std         0.000000       0.000000       0.000000       0.000000   \n",
       "min        -7.273438      -4.363281       0.000000       0.000000   \n",
       "5%         -3.173828      -1.693359       0.227051       0.000000   \n",
       "25%        -1.460938      -0.921387       0.243530       0.000038   \n",
       "50%         0.103363      -0.074219       0.257812       0.000809   \n",
       "75%         1.565430       0.869263       0.265381       0.101929   \n",
       "95%         3.341797       2.107422       0.277832       0.119568   \n",
       "max         9.851562       6.828125       0.291748       0.153442   \n",
       "\n",
       "                 v_7            v_8            v_9           v_10  \\\n",
       "count  200000.000000  200000.000000  200000.000000  200000.000000   \n",
       "mean        0.000000       0.000000       0.000000       0.000000   \n",
       "std         0.000000       0.000000       0.000000       0.000000   \n",
       "min         0.000000       0.000000       0.000000      -9.171875   \n",
       "5%          0.007236       0.013634       0.009583      -5.656250   \n",
       "25%         0.062469       0.035339       0.033905      -3.708984   \n",
       "50%         0.095886       0.056976       0.058563       1.625977   \n",
       "75%         0.125366       0.079407       0.087524       2.844238   \n",
       "95%         0.168213       0.108765       0.125000       4.054883   \n",
       "max         1.411133       0.160767       0.222778      12.359375   \n",
       "\n",
       "                v_11           v_12           v_13           v_14  \n",
       "count  200000.000000  200000.000000  200000.000000  200000.000000  \n",
       "mean        0.000000       0.000000       0.000000      -0.000000  \n",
       "std         0.000000       0.000000       0.000000       0.000000  \n",
       "min        -5.664062      -9.640625      -4.156250      -6.546875  \n",
       "5%         -3.378906      -3.787109      -1.927734      -2.119141  \n",
       "25%        -1.954102      -1.870117      -1.055664      -0.437988  \n",
       "50%        -0.362305      -0.133423      -0.036270       0.140259  \n",
       "75%         1.256836       1.776367       0.942871       0.681641  \n",
       "95%         2.841797       4.097656       2.187500       1.364258  \n",
       "max        18.812500      13.851562      11.148438       8.656250  "
      ]
     },
     "execution_count": 11,
     "metadata": {},
     "output_type": "execute_result"
    }
   ],
   "source": [
    "data[num_feat].describe(percentiles=[0.05,0.25,0.5,0.75,0.95])"
   ]
  },
  {
   "cell_type": "markdown",
   "metadata": {},
   "source": [
    "power极差很大，最大值达到19312，根据赛题，power最大为600，因此将>600的记录全部化为600"
   ]
  },
  {
   "cell_type": "code",
   "execution_count": 12,
   "metadata": {},
   "outputs": [],
   "source": [
    "data.loc[data.power>600,\"power\"]=600"
   ]
  },
  {
   "cell_type": "code",
   "execution_count": 13,
   "metadata": {},
   "outputs": [],
   "source": [
    "#基于IQR进行过滤\n",
    "def IQRFilter(df,colnames,cut=3): \n",
    "    \"\"\"\n",
    "    df:需要过滤的dataframe\n",
    "    colnames：需要过滤的列名\n",
    "    cut：基于IQR的过滤截断点\n",
    "    \"\"\"\n",
    "    # 下四分位数值、中位数，上四分位数值\n",
    "    for col in colnames:\n",
    "        Q1, median, Q3 = np.percentile(df[col].values, (25, 50, 75), interpolation='midpoint')\n",
    "        # 四分位距\n",
    "        IQR = Q3 - Q1\n",
    "        # 内限\n",
    "        inner = [Q1-1.5*IQR, Q3+1.5*IQR]\n",
    "        # 外限\n",
    "        outer = [Q1-cut*IQR, Q3+cut*IQR] \n",
    "        # 过滤极端异常值\n",
    "        df=df[(df[col].values<outer[1]) & (df[col].values>outer[0]) ]\n",
    "    return df"
   ]
  },
  {
   "cell_type": "code",
   "execution_count": 14,
   "metadata": {},
   "outputs": [],
   "source": [
    "data=pd.concat([IQRFilter(data[data.SaleID<200000],num_feat),data[data.SaleID>=200000]]) #对训练集进行异常删减，然后重新concat"
   ]
  },
  {
   "cell_type": "markdown",
   "metadata": {},
   "source": [
    "### 1.1.4 Label"
   ]
  },
  {
   "cell_type": "markdown",
   "metadata": {},
   "source": [
    "使用Box-Cox变换族一般可以保证将数据进行成功的正态变化，但在二分变量或较少水平的等级变量的情况下，不能成功进行转换，此时可以考虑使用广义线性模型，例如logistic模型、johson转换等。"
   ]
  },
  {
   "cell_type": "code",
   "execution_count": 15,
   "metadata": {},
   "outputs": [],
   "source": [
    "train_y=data[data.SaleID<200000][label]"
   ]
  },
  {
   "cell_type": "code",
   "execution_count": 16,
   "metadata": {},
   "outputs": [
    {
     "data": {
      "text/plain": [
       "<matplotlib.axes._subplots.AxesSubplot at 0x25f8565dd08>"
      ]
     },
     "execution_count": 16,
     "metadata": {},
     "output_type": "execute_result"
    },
    {
     "data": {
      "image/png": "[encoded data removed]",
      "text/plain": [
       "<Figure size 576x396 with 1 Axes>"
      ]
     },
     "metadata": {},
     "output_type": "display_data"
    }
   ],
   "source": [
    "sns.distplot(train_y)"
   ]
  },
  {
   "cell_type": "markdown",
   "metadata": {},
   "source": [
    "从标签分布可以看出不服从正态分布，采用box-cox使其正态化。"
   ]
  },
  {
   "cell_type": "code",
   "execution_count": 17,
   "metadata": {},
   "outputs": [],
   "source": [
    "bc_y_train, maxlog= stats.boxcox(train_y) #bc_y 是box-cox后的数据，lamda是变换参数"
   ]
  },
  {
   "cell_type": "code",
   "execution_count": 18,
   "metadata": {},
   "outputs": [
    {
     "data": {
      "text/plain": [
       "<matplotlib.axes._subplots.AxesSubplot at 0x25f85624808>"
      ]
     },
     "execution_count": 18,
     "metadata": {},
     "output_type": "execute_result"
    },
    {
     "data": {
      "image/png": "[encoded data removed]",
      "text/plain": [
       "<Figure size 576x396 with 1 Axes>"
      ]
     },
     "metadata": {},
     "output_type": "display_data"
    }
   ],
   "source": [
    "sns.distplot(bc_y_train)"
   ]
  },
  {
   "cell_type": "code",
   "execution_count": 19,
   "metadata": {},
   "outputs": [],
   "source": [
    "def bcback(bc_y,maxlog): #将变换后的数值进行还原\n",
    "    return np.power((bc_y*maxlog+1),1/maxlog)"
   ]
  },
  {
   "cell_type": "code",
   "execution_count": 20,
   "metadata": {},
   "outputs": [
    {
     "data": {
      "text/plain": [
       "<matplotlib.axes._subplots.AxesSubplot at 0x25f845ec788>"
      ]
     },
     "execution_count": 20,
     "metadata": {},
     "output_type": "execute_result"
    },
    {
     "data": {
      "image/png": "[encoded data removed]",
      "text/plain": [
       "<Figure size 576x396 with 1 Axes>"
      ]
     },
     "metadata": {},
     "output_type": "display_data"
    }
   ],
   "source": [
    "sns.distplot(bcback(bc_y_train,maxlog))"
   ]
  },
  {
   "cell_type": "markdown",
   "metadata": {},
   "source": [
    "### 1.1.5 Cat_feature encoding"
   ]
  },
  {
   "cell_type": "markdown",
   "metadata": {},
   "source": [
    "类别特征进行标签化,化为从0开始的int数值"
   ]
  },
  {
   "cell_type": "code",
   "execution_count": 21,
   "metadata": {},
   "outputs": [
    {
     "data": {
      "text/html": [
       "<div>\n",
       "<style scoped>\n",
       "    .dataframe tbody tr th:only-of-type {\n",
       "        vertical-align: middle;\n",
       "    }\n",
       "\n",
       "    .dataframe tbody tr th {\n",
       "        vertical-align: top;\n",
       "    }\n",
       "\n",
       "    .dataframe thead th {\n",
       "        text-align: right;\n",
       "    }\n",
       "</style>\n",
       "<table border=\"1\" class=\"dataframe\">\n",
       "  <thead>\n",
       "    <tr style=\"text-align: right;\">\n",
       "      <th></th>\n",
       "      <th>SaleID</th>\n",
       "      <th>name</th>\n",
       "      <th>regDate</th>\n",
       "      <th>model</th>\n",
       "      <th>brand</th>\n",
       "      <th>bodyType</th>\n",
       "      <th>fuelType</th>\n",
       "      <th>gearbox</th>\n",
       "      <th>power</th>\n",
       "      <th>kilometer</th>\n",
       "      <th>...</th>\n",
       "      <th>v_5</th>\n",
       "      <th>v_6</th>\n",
       "      <th>v_7</th>\n",
       "      <th>v_8</th>\n",
       "      <th>v_9</th>\n",
       "      <th>v_10</th>\n",
       "      <th>v_11</th>\n",
       "      <th>v_12</th>\n",
       "      <th>v_13</th>\n",
       "      <th>v_14</th>\n",
       "    </tr>\n",
       "  </thead>\n",
       "  <tbody>\n",
       "    <tr>\n",
       "      <th>0</th>\n",
       "      <td>0</td>\n",
       "      <td>736</td>\n",
       "      <td>20040402</td>\n",
       "      <td>30.0</td>\n",
       "      <td>6</td>\n",
       "      <td>1.0</td>\n",
       "      <td>0.0</td>\n",
       "      <td>0.0</td>\n",
       "      <td>60</td>\n",
       "      <td>12.5</td>\n",
       "      <td>...</td>\n",
       "      <td>0.235718</td>\n",
       "      <td>0.101990</td>\n",
       "      <td>0.129517</td>\n",
       "      <td>0.022812</td>\n",
       "      <td>0.097473</td>\n",
       "      <td>-2.880859</td>\n",
       "      <td>2.804688</td>\n",
       "      <td>-2.419922</td>\n",
       "      <td>0.795410</td>\n",
       "      <td>0.914551</td>\n",
       "    </tr>\n",
       "    <tr>\n",
       "      <th>1</th>\n",
       "      <td>1</td>\n",
       "      <td>2262</td>\n",
       "      <td>20030301</td>\n",
       "      <td>40.0</td>\n",
       "      <td>1</td>\n",
       "      <td>2.0</td>\n",
       "      <td>0.0</td>\n",
       "      <td>0.0</td>\n",
       "      <td>0</td>\n",
       "      <td>15.0</td>\n",
       "      <td>...</td>\n",
       "      <td>0.264893</td>\n",
       "      <td>0.121033</td>\n",
       "      <td>0.135742</td>\n",
       "      <td>0.026596</td>\n",
       "      <td>0.020584</td>\n",
       "      <td>-4.902344</td>\n",
       "      <td>2.095703</td>\n",
       "      <td>-1.030273</td>\n",
       "      <td>-1.722656</td>\n",
       "      <td>0.245483</td>\n",
       "    </tr>\n",
       "    <tr>\n",
       "      <th>2</th>\n",
       "      <td>2</td>\n",
       "      <td>14874</td>\n",
       "      <td>20040403</td>\n",
       "      <td>115.0</td>\n",
       "      <td>15</td>\n",
       "      <td>1.0</td>\n",
       "      <td>0.0</td>\n",
       "      <td>0.0</td>\n",
       "      <td>163</td>\n",
       "      <td>12.5</td>\n",
       "      <td>...</td>\n",
       "      <td>0.251465</td>\n",
       "      <td>0.114929</td>\n",
       "      <td>0.165161</td>\n",
       "      <td>0.062164</td>\n",
       "      <td>0.027069</td>\n",
       "      <td>-4.847656</td>\n",
       "      <td>1.803711</td>\n",
       "      <td>1.565430</td>\n",
       "      <td>-0.832520</td>\n",
       "      <td>-0.229980</td>\n",
       "    </tr>\n",
       "    <tr>\n",
       "      <th>3</th>\n",
       "      <td>3</td>\n",
       "      <td>71865</td>\n",
       "      <td>19960908</td>\n",
       "      <td>109.0</td>\n",
       "      <td>10</td>\n",
       "      <td>0.0</td>\n",
       "      <td>0.0</td>\n",
       "      <td>1.0</td>\n",
       "      <td>193</td>\n",
       "      <td>15.0</td>\n",
       "      <td>...</td>\n",
       "      <td>0.274414</td>\n",
       "      <td>0.110291</td>\n",
       "      <td>0.121948</td>\n",
       "      <td>0.033386</td>\n",
       "      <td>0.000000</td>\n",
       "      <td>-4.507812</td>\n",
       "      <td>1.286133</td>\n",
       "      <td>-0.501953</td>\n",
       "      <td>-2.437500</td>\n",
       "      <td>-0.478760</td>\n",
       "    </tr>\n",
       "    <tr>\n",
       "      <th>5</th>\n",
       "      <td>5</td>\n",
       "      <td>137642</td>\n",
       "      <td>20090602</td>\n",
       "      <td>24.0</td>\n",
       "      <td>10</td>\n",
       "      <td>0.0</td>\n",
       "      <td>1.0</td>\n",
       "      <td>0.0</td>\n",
       "      <td>109</td>\n",
       "      <td>10.0</td>\n",
       "      <td>...</td>\n",
       "      <td>0.260254</td>\n",
       "      <td>0.000518</td>\n",
       "      <td>0.119812</td>\n",
       "      <td>0.090942</td>\n",
       "      <td>0.048767</td>\n",
       "      <td>1.885742</td>\n",
       "      <td>-2.722656</td>\n",
       "      <td>2.457031</td>\n",
       "      <td>-0.286865</td>\n",
       "      <td>0.206543</td>\n",
       "    </tr>\n",
       "    <tr>\n",
       "      <th>...</th>\n",
       "      <td>...</td>\n",
       "      <td>...</td>\n",
       "      <td>...</td>\n",
       "      <td>...</td>\n",
       "      <td>...</td>\n",
       "      <td>...</td>\n",
       "      <td>...</td>\n",
       "      <td>...</td>\n",
       "      <td>...</td>\n",
       "      <td>...</td>\n",
       "      <td>...</td>\n",
       "      <td>...</td>\n",
       "      <td>...</td>\n",
       "      <td>...</td>\n",
       "      <td>...</td>\n",
       "      <td>...</td>\n",
       "      <td>...</td>\n",
       "      <td>...</td>\n",
       "      <td>...</td>\n",
       "      <td>...</td>\n",
       "      <td>...</td>\n",
       "    </tr>\n",
       "    <tr>\n",
       "      <th>49995</th>\n",
       "      <td>249995</td>\n",
       "      <td>111443</td>\n",
       "      <td>20041005</td>\n",
       "      <td>4.0</td>\n",
       "      <td>4</td>\n",
       "      <td>0.0</td>\n",
       "      <td>0.0</td>\n",
       "      <td>1.0</td>\n",
       "      <td>150</td>\n",
       "      <td>15.0</td>\n",
       "      <td>...</td>\n",
       "      <td>0.263672</td>\n",
       "      <td>0.000292</td>\n",
       "      <td>0.141846</td>\n",
       "      <td>0.076416</td>\n",
       "      <td>0.039276</td>\n",
       "      <td>2.072266</td>\n",
       "      <td>-2.531250</td>\n",
       "      <td>1.716797</td>\n",
       "      <td>-1.063477</td>\n",
       "      <td>0.326660</td>\n",
       "    </tr>\n",
       "    <tr>\n",
       "      <th>49996</th>\n",
       "      <td>249996</td>\n",
       "      <td>152834</td>\n",
       "      <td>20130409</td>\n",
       "      <td>65.0</td>\n",
       "      <td>1</td>\n",
       "      <td>0.0</td>\n",
       "      <td>0.0</td>\n",
       "      <td>0.0</td>\n",
       "      <td>179</td>\n",
       "      <td>4.0</td>\n",
       "      <td>...</td>\n",
       "      <td>0.255371</td>\n",
       "      <td>0.000991</td>\n",
       "      <td>0.155884</td>\n",
       "      <td>0.108398</td>\n",
       "      <td>0.067871</td>\n",
       "      <td>1.358398</td>\n",
       "      <td>-3.291016</td>\n",
       "      <td>4.269531</td>\n",
       "      <td>0.140503</td>\n",
       "      <td>0.556152</td>\n",
       "    </tr>\n",
       "    <tr>\n",
       "      <th>49997</th>\n",
       "      <td>249997</td>\n",
       "      <td>132531</td>\n",
       "      <td>20041211</td>\n",
       "      <td>4.0</td>\n",
       "      <td>4</td>\n",
       "      <td>0.0</td>\n",
       "      <td>0.0</td>\n",
       "      <td>1.0</td>\n",
       "      <td>147</td>\n",
       "      <td>12.5</td>\n",
       "      <td>...</td>\n",
       "      <td>0.262939</td>\n",
       "      <td>0.000318</td>\n",
       "      <td>0.141846</td>\n",
       "      <td>0.071960</td>\n",
       "      <td>0.042969</td>\n",
       "      <td>2.166016</td>\n",
       "      <td>-2.417969</td>\n",
       "      <td>1.371094</td>\n",
       "      <td>-1.073242</td>\n",
       "      <td>0.270508</td>\n",
       "    </tr>\n",
       "    <tr>\n",
       "      <th>49998</th>\n",
       "      <td>249998</td>\n",
       "      <td>143405</td>\n",
       "      <td>20020702</td>\n",
       "      <td>40.0</td>\n",
       "      <td>1</td>\n",
       "      <td>4.0</td>\n",
       "      <td>0.0</td>\n",
       "      <td>1.0</td>\n",
       "      <td>176</td>\n",
       "      <td>15.0</td>\n",
       "      <td>...</td>\n",
       "      <td>0.282227</td>\n",
       "      <td>0.000023</td>\n",
       "      <td>0.067505</td>\n",
       "      <td>0.067505</td>\n",
       "      <td>0.009003</td>\n",
       "      <td>2.029297</td>\n",
       "      <td>-2.939453</td>\n",
       "      <td>0.568848</td>\n",
       "      <td>-1.717773</td>\n",
       "      <td>0.316406</td>\n",
       "    </tr>\n",
       "    <tr>\n",
       "      <th>49999</th>\n",
       "      <td>249999</td>\n",
       "      <td>78202</td>\n",
       "      <td>20090708</td>\n",
       "      <td>32.0</td>\n",
       "      <td>8</td>\n",
       "      <td>1.0</td>\n",
       "      <td>0.0</td>\n",
       "      <td>0.0</td>\n",
       "      <td>0</td>\n",
       "      <td>3.0</td>\n",
       "      <td>...</td>\n",
       "      <td>0.231445</td>\n",
       "      <td>0.103943</td>\n",
       "      <td>0.096008</td>\n",
       "      <td>0.062317</td>\n",
       "      <td>0.110168</td>\n",
       "      <td>-3.689453</td>\n",
       "      <td>2.033203</td>\n",
       "      <td>0.109131</td>\n",
       "      <td>2.203125</td>\n",
       "      <td>0.847656</td>\n",
       "    </tr>\n",
       "  </tbody>\n",
       "</table>\n",
       "<p>181137 rows × 29 columns</p>\n",
       "</div>"
      ],
      "text/plain": [
       "       SaleID    name   regDate  model  brand  bodyType  fuelType  gearbox  \\\n",
       "0           0     736  20040402   30.0      6       1.0       0.0      0.0   \n",
       "1           1    2262  20030301   40.0      1       2.0       0.0      0.0   \n",
       "2           2   14874  20040403  115.0     15       1.0       0.0      0.0   \n",
       "3           3   71865  19960908  109.0     10       0.0       0.0      1.0   \n",
       "5           5  137642  20090602   24.0     10       0.0       1.0      0.0   \n",
       "...       ...     ...       ...    ...    ...       ...       ...      ...   \n",
       "49995  249995  111443  20041005    4.0      4       0.0       0.0      1.0   \n",
       "49996  249996  152834  20130409   65.0      1       0.0       0.0      0.0   \n",
       "49997  249997  132531  20041211    4.0      4       0.0       0.0      1.0   \n",
       "49998  249998  143405  20020702   40.0      1       4.0       0.0      1.0   \n",
       "49999  249999   78202  20090708   32.0      8       1.0       0.0      0.0   \n",
       "\n",
       "       power  kilometer  ...       v_5       v_6       v_7       v_8  \\\n",
       "0         60       12.5  ...  0.235718  0.101990  0.129517  0.022812   \n",
       "1          0       15.0  ...  0.264893  0.121033  0.135742  0.026596   \n",
       "2        163       12.5  ...  0.251465  0.114929  0.165161  0.062164   \n",
       "3        193       15.0  ...  0.274414  0.110291  0.121948  0.033386   \n",
       "5        109       10.0  ...  0.260254  0.000518  0.119812  0.090942   \n",
       "...      ...        ...  ...       ...       ...       ...       ...   \n",
       "49995    150       15.0  ...  0.263672  0.000292  0.141846  0.076416   \n",
       "49996    179        4.0  ...  0.255371  0.000991  0.155884  0.108398   \n",
       "49997    147       12.5  ...  0.262939  0.000318  0.141846  0.071960   \n",
       "49998    176       15.0  ...  0.282227  0.000023  0.067505  0.067505   \n",
       "49999      0        3.0  ...  0.231445  0.103943  0.096008  0.062317   \n",
       "\n",
       "            v_9      v_10      v_11      v_12      v_13      v_14  \n",
       "0      0.097473 -2.880859  2.804688 -2.419922  0.795410  0.914551  \n",
       "1      0.020584 -4.902344  2.095703 -1.030273 -1.722656  0.245483  \n",
       "2      0.027069 -4.847656  1.803711  1.565430 -0.832520 -0.229980  \n",
       "3      0.000000 -4.507812  1.286133 -0.501953 -2.437500 -0.478760  \n",
       "5      0.048767  1.885742 -2.722656  2.457031 -0.286865  0.206543  \n",
       "...         ...       ...       ...       ...       ...       ...  \n",
       "49995  0.039276  2.072266 -2.531250  1.716797 -1.063477  0.326660  \n",
       "49996  0.067871  1.358398 -3.291016  4.269531  0.140503  0.556152  \n",
       "49997  0.042969  2.166016 -2.417969  1.371094 -1.073242  0.270508  \n",
       "49998  0.009003  2.029297 -2.939453  0.568848 -1.717773  0.316406  \n",
       "49999  0.110168 -3.689453  2.033203  0.109131  2.203125  0.847656  \n",
       "\n",
       "[181137 rows x 29 columns]"
      ]
     },
     "execution_count": 21,
     "metadata": {},
     "output_type": "execute_result"
    }
   ],
   "source": [
    "data"
   ]
  },
  {
   "cell_type": "code",
   "execution_count": 22,
   "metadata": {},
   "outputs": [
    {
     "name": "stdout",
     "output_type": "stream",
     "text": [
      "<class 'pandas.core.frame.DataFrame'>\n",
      "Int64Index: 181137 entries, 0 to 49999\n",
      "Data columns (total 29 columns):\n",
      " #   Column             Non-Null Count   Dtype   \n",
      "---  ------             --------------   -----   \n",
      " 0   SaleID             181137 non-null  int32   \n",
      " 1   name               181137 non-null  int32   \n",
      " 2   regDate            181137 non-null  int32   \n",
      " 3   model              181137 non-null  float16 \n",
      " 4   brand              181137 non-null  int8    \n",
      " 5   bodyType           181137 non-null  float16 \n",
      " 6   fuelType           181137 non-null  float16 \n",
      " 7   gearbox            181137 non-null  float16 \n",
      " 8   power              181137 non-null  int16   \n",
      " 9   kilometer          181137 non-null  float16 \n",
      " 10  notRepairedDamage  181137 non-null  category\n",
      " 11  regionCode         181137 non-null  int16   \n",
      " 12  creatDate          181137 non-null  int32   \n",
      " 13  price              131137 non-null  float64 \n",
      " 14  v_0                181137 non-null  float16 \n",
      " 15  v_1                181137 non-null  float16 \n",
      " 16  v_2                181137 non-null  float16 \n",
      " 17  v_3                181137 non-null  float16 \n",
      " 18  v_4                181137 non-null  float16 \n",
      " 19  v_5                181137 non-null  float16 \n",
      " 20  v_6                181137 non-null  float16 \n",
      " 21  v_7                181137 non-null  float16 \n",
      " 22  v_8                181137 non-null  float16 \n",
      " 23  v_9                181137 non-null  float16 \n",
      " 24  v_10               181137 non-null  float16 \n",
      " 25  v_11               181137 non-null  float16 \n",
      " 26  v_12               181137 non-null  float16 \n",
      " 27  v_13               181137 non-null  float16 \n",
      " 28  v_14               181137 non-null  float16 \n",
      "dtypes: category(1), float16(20), float64(1), int16(2), int32(4), int8(1)\n",
      "memory usage: 13.5 MB\n"
     ]
    }
   ],
   "source": [
    "data.info()"
   ]
  },
  {
   "cell_type": "code",
   "execution_count": 23,
   "metadata": {},
   "outputs": [
    {
     "data": {
      "text/html": [
       "<div>\n",
       "<style scoped>\n",
       "    .dataframe tbody tr th:only-of-type {\n",
       "        vertical-align: middle;\n",
       "    }\n",
       "\n",
       "    .dataframe tbody tr th {\n",
       "        vertical-align: top;\n",
       "    }\n",
       "\n",
       "    .dataframe thead th {\n",
       "        text-align: right;\n",
       "    }\n",
       "</style>\n",
       "<table border=\"1\" class=\"dataframe\">\n",
       "  <thead>\n",
       "    <tr style=\"text-align: right;\">\n",
       "      <th></th>\n",
       "      <th>0</th>\n",
       "      <th>nullrate</th>\n",
       "      <th>nullrate%</th>\n",
       "    </tr>\n",
       "  </thead>\n",
       "  <tbody>\n",
       "  </tbody>\n",
       "</table>\n",
       "</div>"
      ],
      "text/plain": [
       "Empty DataFrame\n",
       "Columns: [0, nullrate, nullrate%]\n",
       "Index: []"
      ]
     },
     "execution_count": 23,
     "metadata": {},
     "output_type": "execute_result"
    }
   ],
   "source": [
    "my.Nullrate(data[cat_feat])"
   ]
  },
  {
   "cell_type": "code",
   "execution_count": 24,
   "metadata": {},
   "outputs": [],
   "source": [
    "for i in cat_feat:\n",
    "    data[i]=data[i].apply(lambda x: int(float(x)))"
   ]
  },
  {
   "cell_type": "code",
   "execution_count": 25,
   "metadata": {},
   "outputs": [],
   "source": [
    "data.notRepairedDamage=data.notRepairedDamage.astype(\"int\")"
   ]
  },
  {
   "cell_type": "code",
   "execution_count": 26,
   "metadata": {},
   "outputs": [
    {
     "name": "stdout",
     "output_type": "stream",
     "text": [
      "<class 'pandas.core.frame.DataFrame'>\n",
      "Int64Index: 181137 entries, 0 to 49999\n",
      "Data columns (total 29 columns):\n",
      " #   Column             Non-Null Count   Dtype  \n",
      "---  ------             --------------   -----  \n",
      " 0   SaleID             181137 non-null  int32  \n",
      " 1   name               181137 non-null  int64  \n",
      " 2   regDate            181137 non-null  int32  \n",
      " 3   model              181137 non-null  int64  \n",
      " 4   brand              181137 non-null  int64  \n",
      " 5   bodyType           181137 non-null  int64  \n",
      " 6   fuelType           181137 non-null  int64  \n",
      " 7   gearbox            181137 non-null  int64  \n",
      " 8   power              181137 non-null  int16  \n",
      " 9   kilometer          181137 non-null  float16\n",
      " 10  notRepairedDamage  181137 non-null  int32  \n",
      " 11  regionCode         181137 non-null  int64  \n",
      " 12  creatDate          181137 non-null  int32  \n",
      " 13  price              131137 non-null  float64\n",
      " 14  v_0                181137 non-null  float16\n",
      " 15  v_1                181137 non-null  float16\n",
      " 16  v_2                181137 non-null  float16\n",
      " 17  v_3                181137 non-null  float16\n",
      " 18  v_4                181137 non-null  float16\n",
      " 19  v_5                181137 non-null  float16\n",
      " 20  v_6                181137 non-null  float16\n",
      " 21  v_7                181137 non-null  float16\n",
      " 22  v_8                181137 non-null  float16\n",
      " 23  v_9                181137 non-null  float16\n",
      " 24  v_10               181137 non-null  float16\n",
      " 25  v_11               181137 non-null  float16\n",
      " 26  v_12               181137 non-null  float16\n",
      " 27  v_13               181137 non-null  float16\n",
      " 28  v_14               181137 non-null  float16\n",
      "dtypes: float16(16), float64(1), int16(1), int32(4), int64(7)\n",
      "memory usage: 21.1 MB\n"
     ]
    }
   ],
   "source": [
    "data.info()"
   ]
  },
  {
   "cell_type": "markdown",
   "metadata": {},
   "source": [
    "## 1.2 Feature Construction"
   ]
  },
  {
   "cell_type": "markdown",
   "metadata": {},
   "source": [
    "* 特征构造\n",
    "    * 单一特征\n",
    "        * 数值特征（归一化/标准化/分箱离散化/box-cox变换）\n",
    "        * 类别特征（py库：category_encoders）\n",
    "            * 时间序列-年月日/是否假期/周末/rank/count\n",
    "            * 地理信息-背后有没有什么实际含义进行提取/len/rank\n",
    "            * 高基数特征（id）-count/rank/CatBoost Encoder/LeaveOneOut、 WeightOfEvidence、 James-Stein、M-estimator\n",
    "            * 稀疏特征-OneHot, Hashing, LeaveOneOut,target encoding\n",
    "    * 特征组合\n",
    "        * 数值+数值 （多项式组合/gplearn库）\n",
    "        * 类别+数值 （statistic特征）\n",
    "* 标签分析\n",
    "    * 标签分布：是否均匀；是否异常（正态分布？）\n",
    "    * 标签box-cox转化"
   ]
  },
  {
   "cell_type": "code",
   "execution_count": 27,
   "metadata": {},
   "outputs": [],
   "source": [
    "#由于数据没有标准化，因此先采用树模型如LGB进行特征选择。\n",
    "def lgb_feat_selection(df,label,k=5):\n",
    "    train_x=df[df.SaleID<200000].drop(label,axis=1)\n",
    "    train_y=df[df.SaleID<200000][label]\n",
    "    clf = lgb.LGBMRegressor(objective='regression',metric= 'mae',silent=1,num_leaves=80,learning_rate=0.03, n_estimators=300)\n",
    "    clf.fit(train_x, train_y,categorical_feature=cat_feat,verbose=0) \n",
    "    keys=df.columns\n",
    "    values=clf.feature_importances_\n",
    "    feim=dict(zip(keys,values))\n",
    "    rank=sorted(feim.items(),  key=lambda d: d[1], reverse=True) #按得分降序\n",
    "    derank=sorted(feim.items(),  key=lambda d: d[1], reverse=False) #按得分升序\n",
    "    rank_keys=[i[0] for i in rank][0:k]\n",
    "    derank_keys=[i[0] for i in derank][0:k]\n",
    "    lgb.plot_importance(clf)\n",
    "    return {\"Kbest\":rank_keys,\"kworst\":derank_keys}"
   ]
  },
  {
   "cell_type": "code",
   "execution_count": 28,
   "metadata": {},
   "outputs": [
    {
     "data": {
      "text/plain": [
       "{'Kbest': ['v_9',\n",
       "  'regDate',\n",
       "  'regionCode',\n",
       "  'model',\n",
       "  'power',\n",
       "  'v_5',\n",
       "  'name',\n",
       "  'v_2',\n",
       "  'v_0',\n",
       "  'price'],\n",
       " 'kworst': ['gearbox',\n",
       "  'fuelType',\n",
       "  'bodyType',\n",
       "  'brand',\n",
       "  'v_3',\n",
       "  'SaleID',\n",
       "  'v_6',\n",
       "  'creatDate',\n",
       "  'v_12',\n",
       "  'notRepairedDamage']}"
      ]
     },
     "execution_count": 28,
     "metadata": {},
     "output_type": "execute_result"
    },
    {
     "data": {
      "image/png": "[encoded data removed]",
      "text/plain": [
       "<Figure size 576x396 with 1 Axes>"
      ]
     },
     "metadata": {},
     "output_type": "display_data"
    }
   ],
   "source": [
    "lgb_feat_selection(data,label,k=10)"
   ]
  },
  {
   "cell_type": "code",
   "execution_count": 29,
   "metadata": {},
   "outputs": [],
   "source": [
    "cat_item=['regDate','regionCode','model',\"name\"]"
   ]
  },
  {
   "cell_type": "code",
   "execution_count": 30,
   "metadata": {},
   "outputs": [],
   "source": [
    "num_item=['power','kilometer','v_2','v_0','v_9','v_5']"
   ]
  },
  {
   "cell_type": "markdown",
   "metadata": {},
   "source": [
    "* Time series"
   ]
  },
  {
   "cell_type": "markdown",
   "metadata": {},
   "source": [
    "相对时间和绝对时间，节假日，双休日等,赛题中creatDate和regDate是时间序列特征；regDate - 汽车注册时间；creatDate - 卖车广告发布时间，因此可利用二者时间差推断汽车使用时间"
   ]
  },
  {
   "cell_type": "code",
   "execution_count": 31,
   "metadata": {},
   "outputs": [],
   "source": [
    "#刊登卖车广告时间晚于注册时间，时间差可利用建立使用时间特征\n",
    "data[\"used_time\"]=(pd.to_datetime(data.creatDate,format='%Y%m%d', errors='coerce')-pd.to_datetime(data.regDate,format='%Y%m%d', errors='coerce')).dt.days #强制进行转换，不满足转换要求，则设为缺失值"
   ]
  },
  {
   "cell_type": "code",
   "execution_count": 32,
   "metadata": {},
   "outputs": [
    {
     "data": {
      "text/html": [
       "<div>\n",
       "<style scoped>\n",
       "    .dataframe tbody tr th:only-of-type {\n",
       "        vertical-align: middle;\n",
       "    }\n",
       "\n",
       "    .dataframe tbody tr th {\n",
       "        vertical-align: top;\n",
       "    }\n",
       "\n",
       "    .dataframe thead th {\n",
       "        text-align: right;\n",
       "    }\n",
       "</style>\n",
       "<table border=\"1\" class=\"dataframe\">\n",
       "  <thead>\n",
       "    <tr style=\"text-align: right;\">\n",
       "      <th></th>\n",
       "      <th>0</th>\n",
       "      <th>nullrate</th>\n",
       "      <th>nullrate%</th>\n",
       "    </tr>\n",
       "  </thead>\n",
       "  <tbody>\n",
       "    <tr>\n",
       "      <th>price</th>\n",
       "      <td>50000</td>\n",
       "      <td>0.276034</td>\n",
       "      <td>27.6</td>\n",
       "    </tr>\n",
       "    <tr>\n",
       "      <th>used_time</th>\n",
       "      <td>11951</td>\n",
       "      <td>0.065978</td>\n",
       "      <td>6.6</td>\n",
       "    </tr>\n",
       "  </tbody>\n",
       "</table>\n",
       "</div>"
      ],
      "text/plain": [
       "               0  nullrate  nullrate%\n",
       "price      50000  0.276034       27.6\n",
       "used_time  11951  0.065978        6.6"
      ]
     },
     "execution_count": 32,
     "metadata": {},
     "output_type": "execute_result"
    }
   ],
   "source": [
    "my.Nullrate(data)"
   ]
  },
  {
   "cell_type": "code",
   "execution_count": 33,
   "metadata": {},
   "outputs": [
    {
     "data": {
      "text/html": [
       "<div>\n",
       "<style scoped>\n",
       "    .dataframe tbody tr th:only-of-type {\n",
       "        vertical-align: middle;\n",
       "    }\n",
       "\n",
       "    .dataframe tbody tr th {\n",
       "        vertical-align: top;\n",
       "    }\n",
       "\n",
       "    .dataframe thead th {\n",
       "        text-align: right;\n",
       "    }\n",
       "</style>\n",
       "<table border=\"1\" class=\"dataframe\">\n",
       "  <thead>\n",
       "    <tr style=\"text-align: right;\">\n",
       "      <th></th>\n",
       "      <th>creatDate</th>\n",
       "      <th>regDate</th>\n",
       "    </tr>\n",
       "  </thead>\n",
       "  <tbody>\n",
       "    <tr>\n",
       "      <th>20</th>\n",
       "      <td>20160311</td>\n",
       "      <td>19970004</td>\n",
       "    </tr>\n",
       "    <tr>\n",
       "      <th>22</th>\n",
       "      <td>20160326</td>\n",
       "      <td>19970008</td>\n",
       "    </tr>\n",
       "    <tr>\n",
       "      <th>42</th>\n",
       "      <td>20160328</td>\n",
       "      <td>19960009</td>\n",
       "    </tr>\n",
       "    <tr>\n",
       "      <th>51</th>\n",
       "      <td>20160325</td>\n",
       "      <td>20020006</td>\n",
       "    </tr>\n",
       "    <tr>\n",
       "      <th>69</th>\n",
       "      <td>20160325</td>\n",
       "      <td>19990007</td>\n",
       "    </tr>\n",
       "    <tr>\n",
       "      <th>49916</th>\n",
       "      <td>20160324</td>\n",
       "      <td>20150008</td>\n",
       "    </tr>\n",
       "    <tr>\n",
       "      <th>49925</th>\n",
       "      <td>20160316</td>\n",
       "      <td>20020003</td>\n",
       "    </tr>\n",
       "    <tr>\n",
       "      <th>49935</th>\n",
       "      <td>20160307</td>\n",
       "      <td>19960007</td>\n",
       "    </tr>\n",
       "    <tr>\n",
       "      <th>49938</th>\n",
       "      <td>20160319</td>\n",
       "      <td>20080004</td>\n",
       "    </tr>\n",
       "    <tr>\n",
       "      <th>49939</th>\n",
       "      <td>20160316</td>\n",
       "      <td>19950006</td>\n",
       "    </tr>\n",
       "  </tbody>\n",
       "</table>\n",
       "</div>"
      ],
      "text/plain": [
       "       creatDate   regDate\n",
       "20      20160311  19970004\n",
       "22      20160326  19970008\n",
       "42      20160328  19960009\n",
       "51      20160325  20020006\n",
       "69      20160325  19990007\n",
       "49916   20160324  20150008\n",
       "49925   20160316  20020003\n",
       "49935   20160307  19960007\n",
       "49938   20160319  20080004\n",
       "49939   20160316  19950006"
      ]
     },
     "execution_count": 33,
     "metadata": {},
     "output_type": "execute_result"
    }
   ],
   "source": [
    "data[data.used_time.isnull()][[\"creatDate\",\"regDate\"]].head().append(data[data.used_time.isnull()][[\"creatDate\",\"regDate\"]].tail())"
   ]
  },
  {
   "cell_type": "markdown",
   "metadata": {},
   "source": [
    "used_time的缺失值是由于regDate数据异常引起，月份不能是0；因此提取两个时间的年份信息，再转化为天数作为填充。"
   ]
  },
  {
   "cell_type": "code",
   "execution_count": 34,
   "metadata": {},
   "outputs": [],
   "source": [
    "data.loc[(data.used_time.isnull()),\"used_time\"] = (data.loc[(data.used_time.isnull()),\"creatDate\"].apply(lambda x:eval(str(x)[0:4]))-\n",
    "                                                data.loc[(data.used_time.isnull()),\"regDate\"].apply(lambda x:eval(str(x)[0:4])))*365"
   ]
  },
  {
   "cell_type": "markdown",
   "metadata": {},
   "source": [
    "广告发布时间以及注册时间如果是节假日可能也会影响价格，因此创建一个节假日特征。"
   ]
  },
  {
   "cell_type": "code",
   "execution_count": 35,
   "metadata": {},
   "outputs": [],
   "source": [
    "# \"\"\"\n",
    "# from chinese_calendar import is_workday, is_holiday,is_in_lieu  #判断日期是否工作日；节假日；调休\n",
    "# #由于时间序列数据是德国的日历；因此不能用中国日历来创建特征。\n",
    "# creat_time=pd.to_datetime(data.creatDate,format='%Y%m%d', errors='coerce')\n",
    "# data[\"is_workday_creat\"]=creat_time.apply(lambda x:is_workday(x) )\n",
    "# data[\"is_holiday_creat\"]=creat_time.apply(lambda x:is_holiday(x) )\n",
    "# data[\"is_in_lieu_creat\"]=creat_time.apply(lambda x:is_in_lieu(x) )\n",
    "#由于chinese_calendar只支持2003-2020年日历查询，而regDate大多数是2004年之前的数据，因此不创建节假日特征。\n",
    "# \"\"\""
   ]
  },
  {
   "cell_type": "code",
   "execution_count": 36,
   "metadata": {},
   "outputs": [],
   "source": [
    "data[\"reg_time\"]=data.regDate.apply(lambda x:eval(str(x)[0:6])) #抽取年份+月份信息;用于后续统计信息创建"
   ]
  },
  {
   "cell_type": "code",
   "execution_count": 37,
   "metadata": {},
   "outputs": [],
   "source": [
    "creat_time=pd.to_datetime(data.creatDate,format='%Y%m%d', errors='coerce')\n",
    "data[\"year_creat\"]=creat_time.dt.year\n",
    "data[\"month_creat\"]=creat_time.dt.month\n",
    "data[\"week_creat\"]=creat_time.dt.weekday"
   ]
  },
  {
   "cell_type": "code",
   "execution_count": 38,
   "metadata": {},
   "outputs": [],
   "source": [
    "data[\"year_reg\"]=creat_time.dt.year\n",
    "data[\"month_reg\"]=creat_time.dt.month\n",
    "data[\"week_reg\"]=creat_time.dt.weekday"
   ]
  },
  {
   "cell_type": "code",
   "execution_count": 39,
   "metadata": {},
   "outputs": [],
   "source": [
    "def used_time_cut(x): #按照使用年限进行切割\n",
    "    if x<=365:\n",
    "        return 0\n",
    "    elif x<=1095:\n",
    "        return 1\n",
    "    elif x<=2555:\n",
    "        return 2\n",
    "    else:\n",
    "        return 3"
   ]
  },
  {
   "cell_type": "code",
   "execution_count": 40,
   "metadata": {},
   "outputs": [],
   "source": [
    "data[\"used_time_cut\"]=data.used_time.apply(lambda x:used_time_cut(x))"
   ]
  },
  {
   "cell_type": "code",
   "execution_count": 41,
   "metadata": {},
   "outputs": [],
   "source": [
    "cat_feat=cat_feat+[\"reg_time\",\"used_time_cut\"]"
   ]
  },
  {
   "cell_type": "code",
   "execution_count": 52,
   "metadata": {},
   "outputs": [
    {
     "data": {
      "text/plain": [
       "{'MAE': 558.27}"
      ]
     },
     "execution_count": 52,
     "metadata": {},
     "output_type": "execute_result"
    }
   ],
   "source": [
    "kvalid(data[data.SaleID<200000].drop(\"price\",axis=1),bc_y_train,k=10)"
   ]
  },
  {
   "cell_type": "markdown",
   "metadata": {},
   "source": [
    "* location"
   ]
  },
  {
   "cell_type": "markdown",
   "metadata": {},
   "source": [
    "经测试，location信息可能会造成信息泄露，故不采用该特征"
   ]
  },
  {
   "cell_type": "markdown",
   "metadata": {},
   "source": [
    "### 1.2.1 Feature combination"
   ]
  },
  {
   "cell_type": "markdown",
   "metadata": {},
   "source": [
    "* Base on experience"
   ]
  },
  {
   "cell_type": "code",
   "execution_count": 53,
   "metadata": {},
   "outputs": [],
   "source": [
    "data[\"name_len\"]=data[\"name\"].apply(lambda x : len(str(x)))\n",
    "data[\"kilo_perday\"]=data[\"kilometer\"]/data[\"used_time\"]"
   ]
  },
  {
   "cell_type": "code",
   "execution_count": 54,
   "metadata": {},
   "outputs": [],
   "source": [
    "data1=data.copy()"
   ]
  },
  {
   "cell_type": "markdown",
   "metadata": {},
   "source": [
    "* Base on gplearn-with multiple non-linear functions"
   ]
  },
  {
   "cell_type": "markdown",
   "metadata": {},
   "source": [
    "- gplearn 有目的地约束了符号回归问题。\n",
    "- 手工特征工程中，我们会对两个或者多个特征进行一些加减乘除的操作，来生成一些特征，希望能够生成一些根据领域的先验知识。\n",
    "- 对金额特征, 日期特征进行比值操作生成一些特征，这些特征经常能够提升验证集和测试集的分数，在模型中也有很高的重要程度。"
   ]
  },
  {
   "cell_type": "code",
   "execution_count": 55,
   "metadata": {},
   "outputs": [],
   "source": [
    "def Gp_feat_gen(train_x,bc_y_train):\n",
    "    from gplearn.genetic import SymbolicTransformer\n",
    "    function_set = ['add', 'sub', 'mul', 'div',\n",
    "                    'sqrt', 'log', 'abs', 'neg', 'inv',\n",
    "                    'max', 'min']\n",
    "    gp = SymbolicTransformer(generations=30, population_size=1800,\n",
    "                             hall_of_fame=100, n_components=10,\n",
    "                             function_set=function_set,\n",
    "                             parsimony_coefficient=0.0005,\n",
    "                             max_samples=0.9, verbose=0,\n",
    "                             random_state=42, n_jobs=-1)\n",
    "    gp.fit(train_x,bc_y_train)\n",
    "    return pd.DataFrame(gp.transform(train_x))"
   ]
  },
  {
   "cell_type": "code",
   "execution_count": 56,
   "metadata": {},
   "outputs": [],
   "source": [
    "# gp_feat=Gp_feat_gen(data[data.SaleID<200000].drop(label,axis=1),bc_y_train)"
   ]
  },
  {
   "cell_type": "code",
   "execution_count": 57,
   "metadata": {},
   "outputs": [],
   "source": [
    "#效果不好"
   ]
  },
  {
   "cell_type": "markdown",
   "metadata": {},
   "source": [
    "* Base on statistics"
   ]
  },
  {
   "cell_type": "markdown",
   "metadata": {},
   "source": [
    "重要特征的计数、均值、标准差等统计值；\n",
    "匿名特征的计数"
   ]
  },
  {
   "cell_type": "code",
   "execution_count": 58,
   "metadata": {},
   "outputs": [],
   "source": [
    "def count_feat(df,cols): #统计自身的各值频数\n",
    "    for col in cols:\n",
    "        newF1 = df.groupby([col])[col].count().to_frame().rename(columns={col:col+'__count'})\n",
    "        df = pd.merge(df, newF1, on=[col], how='left')\n",
    "    return df"
   ]
  },
  {
   "cell_type": "code",
   "execution_count": 59,
   "metadata": {},
   "outputs": [
    {
     "data": {
      "text/plain": [
       "Index(['SaleID', 'name', 'regDate', 'model', 'brand', 'bodyType', 'fuelType',\n",
       "       'gearbox', 'power', 'kilometer', 'notRepairedDamage', 'regionCode',\n",
       "       'creatDate', 'price', 'v_0', 'v_1', 'v_2', 'v_3', 'v_4', 'v_5', 'v_6',\n",
       "       'v_7', 'v_8', 'v_9', 'v_10', 'v_11', 'v_12', 'v_13', 'v_14',\n",
       "       'used_time', 'reg_time', 'year_creat', 'month_creat', 'week_creat',\n",
       "       'year_reg', 'month_reg', 'week_reg', 'used_time_cut', 'name_len',\n",
       "       'kilo_perday'],\n",
       "      dtype='object')"
      ]
     },
     "execution_count": 59,
     "metadata": {},
     "output_type": "execute_result"
    }
   ],
   "source": [
    "data.columns"
   ]
  },
  {
   "cell_type": "code",
   "execution_count": 60,
   "metadata": {},
   "outputs": [],
   "source": [
    "data=count_feat(data,cols=cat_item+num_item)"
   ]
  },
  {
   "cell_type": "code",
   "execution_count": 61,
   "metadata": {},
   "outputs": [],
   "source": [
    "def stat_feat_label(df,onecatcols): #统计类别特征与标签的统计值 \n",
    "    Train= df[df.SaleID<200000] #分离出训练集\n",
    "    funcs=[\"max\",\"min\",\"mean\",\"sum\",\"median\",\"std\",\"skew\"]\n",
    "    for col in onecatcols:\n",
    "        gb=Train.groupby(col)\n",
    "        dfgb=gb[label].agg(funcs) \n",
    "        df=df.merge(dfgb,how=\"left\",on=col)\n",
    "        df.rename(columns={\"max\":col+\"_\"+label+\"_\"+\"max\",\"min\":col+\"_\"+label+\"_\"+\"min\",\"mean\":col+\"_\"+label+\"_\"+\"mean\",\n",
    "                     \"sum\":col+\"_\"+label+\"_\"+\"sum\",\"median\":col+\"_\"+label+\"_\"+\"median\",\"std\":col+\"_\"+label+\"_\"+\"std\",\n",
    "                     \"skew\":col+\"_\"+label+\"_\"+\"skew\"},inplace=True)\n",
    "    return df"
   ]
  },
  {
   "cell_type": "code",
   "execution_count": 66,
   "metadata": {},
   "outputs": [
    {
     "name": "stdout",
     "output_type": "stream",
     "text": [
      "Memory usage of dataframe is 153966450.00 MB\n",
      "Memory usage after optimization is: 53616552.00 MB\n",
      "Decreased by 65.2%\n"
     ]
    }
   ],
   "source": [
    "data=my.reduce_mem_usage(stat_feat_label(data,cat_feat))"
   ]
  },
  {
   "cell_type": "code",
   "execution_count": 67,
   "metadata": {},
   "outputs": [],
   "source": [
    "def stat_feat(df,onecatcols,onenumcols): #统计类别特征与标签的统计值\n",
    "    for col in onecatcols:\n",
    "        for j in onenumcols: \n",
    "            gb=df.groupby(col)\n",
    "            funcs=[\"max\",\"min\",\"mean\",\"sum\",\"median\",\"std\",\"skew\"]\n",
    "            dfgb=gb[j].agg(funcs)\n",
    "            df=df.merge(dfgb,how=\"left\",on=col)\n",
    "            df.rename(columns={\"max\":col+\"_\"+j+\"_\"+\"max\",\"min\":col+\"_\"+j+\"_\"+\"min\",\"mean\":col+\"_\"+j+\"_\"+\"mean\",\n",
    "                         \"sum\":col+\"_\"+j+\"_\"+\"sum\",\"median\":col+\"_\"+j+\"_\"+\"median\",\"std\":col+\"_\"+j+\"_\"+\"std\",\n",
    "                         \"skew\":col+\"_\"+j+\"_\"+\"skew\"},inplace=True)\n",
    "    return df"
   ]
  },
  {
   "cell_type": "code",
   "execution_count": 71,
   "metadata": {},
   "outputs": [
    {
     "name": "stdout",
     "output_type": "stream",
     "text": [
      "Memory usage of dataframe is 156864642.00 MB\n",
      "Memory usage after optimization is: 117376776.00 MB\n",
      "Decreased by 25.2%\n"
     ]
    }
   ],
   "source": [
    "df_stat=my.reduce_mem_usage(stat_feat(data,cat_item,num_item))"
   ]
  },
  {
   "cell_type": "markdown",
   "metadata": {},
   "source": [
    "加入的统计型特征变量有利于提高精度"
   ]
  },
  {
   "cell_type": "markdown",
   "metadata": {},
   "source": [
    "### 1.2.2 Numeric feature"
   ]
  },
  {
   "cell_type": "markdown",
   "metadata": {},
   "source": [
    "* Data binning"
   ]
  },
  {
   "cell_type": "markdown",
   "metadata": {},
   "source": [
    "等频分箱；等距分箱；Best-KS 分箱（类似利用基尼指数进行二分类）；卡方分箱；聚类分箱。"
   ]
  },
  {
   "cell_type": "markdown",
   "metadata": {},
   "source": [
    "* 分箱算法的好处等同于数据离散化的好处，大致有下面几点：\n",
    "* 1.可以减少过拟合的风险，因为分箱相当于对于数据去粗粒度描述。\n",
    "* 2.增加稀疏数据的概率，减少计算量，因为0的数据变多了。\n",
    "* 3.减少噪声数据的影响，比如一组数据按照0~100均匀分布，当数据中突然出现一个10000的数据，如果不做分箱的化会对Logistic Regression这种模型的训练造成很大影响。\n",
    "* 4.方便特征衍生，因为数据离散化后就可以把特征直接相互做内积提升特征维度。\n",
    "* 5.离散化后可以提升模型的鲁棒性，比如我们有一组数据是年龄，比如A30岁、B50岁，到了第二年A变成31岁，B变成51岁，所有数据都变了理论上要更新模型。但是如果数据分箱了之后，比如分箱逻辑是小于40岁为0，大于40岁为1，则第一年和第二年数据没有变化，模型也不用变化。"
   ]
  },
  {
   "cell_type": "code",
   "execution_count": null,
   "metadata": {},
   "outputs": [],
   "source": [
    "# #等距分箱\n",
    "# le = LabelEncoder()\n",
    "# for col in continuous_feature:\n",
    "#     data[col+\"_cut\"]=le.fit_transform(pd.cut(data[col],bins=4).astype(\"category\"))"
   ]
  },
  {
   "cell_type": "code",
   "execution_count": 72,
   "metadata": {
    "scrolled": true
   },
   "outputs": [],
   "source": [
    "# 聚类划分\n",
    "from sklearn.cluster import KMeans\n",
    "def KMeans_cut(df,col,k=5):\n",
    "    kmeans = KMeans(n_clusters=k)  # 离散为 k 等份\n",
    "    kmeans.fit_transform(df[col].values.reshape(-1, 1)) # 只取一个特征进行聚类离散化\n",
    "    df[col+\"_cut\"]=kmeans.labels_\n",
    "    return df"
   ]
  },
  {
   "cell_type": "code",
   "execution_count": 73,
   "metadata": {},
   "outputs": [],
   "source": [
    "for i in num_item:\n",
    "    data=KMeans_cut(data,i,k=5)"
   ]
  },
  {
   "cell_type": "code",
   "execution_count": 110,
   "metadata": {},
   "outputs": [
    {
     "name": "stdout",
     "output_type": "stream",
     "text": [
      "Memory usage of dataframe is 63206720.00 MB\n",
      "Memory usage after optimization is: 59946254.00 MB\n",
      "Decreased by 5.2%\n"
     ]
    }
   ],
   "source": [
    "my.reduce_mem_usage(data).to_csv(\"data.csv\",index=None)"
   ]
  },
  {
   "cell_type": "markdown",
   "metadata": {},
   "source": [
    "###  1.2.3 Categorical featrue"
   ]
  },
  {
   "cell_type": "markdown",
   "metadata": {},
   "source": [
    "(when using xgb and not tree model)"
   ]
  },
  {
   "cell_type": "code",
   "execution_count": 75,
   "metadata": {},
   "outputs": [],
   "source": [
    "import category_encoders as ce"
   ]
  },
  {
   "cell_type": "markdown",
   "metadata": {},
   "source": [
    "* 无序离散特征:OneHot, Hashing, LeaveOneOut,target encoding 方法效果较好，但是使用OneHot时要避免高基类别的特征以及基于决策树的模型。\n",
    "* 有序离散特征:尝试 Ordinal, Binary, OneHot, LeaveOneOut, and Target. \n",
    "* 高基数特征: LeaveOneOut、 WeightOfEvidence、 James-Stein、M-estimator 适合用来处理高基数特征。\n",
    "* 回归问题:Target 与 LeaveOneOut 方法可能不会有比较好的效果。\n",
    "* Helmert、 Sum、 Backward Difference、 Polynomial 在机器学习问题里的效果往往不是很好(过拟合的原因)\n",
    "* Helmert, Sum, BackwardDifference and Polynomial 基本没啥用，但是当你有确切的原因或者对于业务的理解的话，可以进行尝试。"
   ]
  },
  {
   "cell_type": "markdown",
   "metadata": {},
   "source": [
    "* label encoding\n",
    "特征存在内在顺序 (ordinal feature)\n",
    "* one hot encoding\n",
    "特征无内在顺序，category数量 < 4\n",
    "* target encoding (mean encoding, likelihood encoding, impact encoding)\n",
    "特征无内在顺序，category数量 > 4\n",
    "* beta target encoding\n",
    "特征无内在顺序，category数量 > 4, K-fold cross validation\n",
    "* 不做处理（模型自动编码）\n",
    "CatBoost，lightgbm"
   ]
  },
  {
   "cell_type": "code",
   "execution_count": 76,
   "metadata": {},
   "outputs": [],
   "source": [
    "data_xgb=data.copy()"
   ]
  },
  {
   "cell_type": "code",
   "execution_count": 77,
   "metadata": {},
   "outputs": [
    {
     "data": {
      "text/html": [
       "<div>\n",
       "<style scoped>\n",
       "    .dataframe tbody tr th:only-of-type {\n",
       "        vertical-align: middle;\n",
       "    }\n",
       "\n",
       "    .dataframe tbody tr th {\n",
       "        vertical-align: top;\n",
       "    }\n",
       "\n",
       "    .dataframe thead th {\n",
       "        text-align: right;\n",
       "    }\n",
       "</style>\n",
       "<table border=\"1\" class=\"dataframe\">\n",
       "  <thead>\n",
       "    <tr style=\"text-align: right;\">\n",
       "      <th></th>\n",
       "      <th>nunique</th>\n",
       "    </tr>\n",
       "  </thead>\n",
       "  <tbody>\n",
       "    <tr>\n",
       "      <th>name</th>\n",
       "      <td>116164</td>\n",
       "    </tr>\n",
       "    <tr>\n",
       "      <th>regionCode</th>\n",
       "      <td>7975</td>\n",
       "    </tr>\n",
       "    <tr>\n",
       "      <th>reg_time</th>\n",
       "      <td>325</td>\n",
       "    </tr>\n",
       "    <tr>\n",
       "      <th>model</th>\n",
       "      <td>248</td>\n",
       "    </tr>\n",
       "    <tr>\n",
       "      <th>brand</th>\n",
       "      <td>40</td>\n",
       "    </tr>\n",
       "    <tr>\n",
       "      <th>bodyType</th>\n",
       "      <td>8</td>\n",
       "    </tr>\n",
       "    <tr>\n",
       "      <th>fuelType</th>\n",
       "      <td>7</td>\n",
       "    </tr>\n",
       "    <tr>\n",
       "      <th>used_time_cut</th>\n",
       "      <td>4</td>\n",
       "    </tr>\n",
       "    <tr>\n",
       "      <th>gearbox</th>\n",
       "      <td>2</td>\n",
       "    </tr>\n",
       "    <tr>\n",
       "      <th>notRepairedDamage</th>\n",
       "      <td>2</td>\n",
       "    </tr>\n",
       "  </tbody>\n",
       "</table>\n",
       "</div>"
      ],
      "text/plain": [
       "                   nunique\n",
       "name                116164\n",
       "regionCode            7975\n",
       "reg_time               325\n",
       "model                  248\n",
       "brand                   40\n",
       "bodyType                 8\n",
       "fuelType                 7\n",
       "used_time_cut            4\n",
       "gearbox                  2\n",
       "notRepairedDamage        2"
      ]
     },
     "execution_count": 77,
     "metadata": {},
     "output_type": "execute_result"
    }
   ],
   "source": [
    "data_cate_nuiq=data[cat_feat].nunique().to_frame()\n",
    "data_cate_nuiq.columns=[\"nunique\"]\n",
    "data_cate_nuiq.sort_values(by=\"nunique\",ascending=False)"
   ]
  },
  {
   "cell_type": "code",
   "execution_count": 78,
   "metadata": {},
   "outputs": [],
   "source": [
    "high_cat=data_cate_nuiq[data_cate_nuiq[\"nunique\"]>=10].index.tolist() #CatBoost/LeaveOneOut/rank/count\n",
    "low_cat=data_cate_nuiq[data_cate_nuiq[\"nunique\"]<10].index.tolist() # CatBoost/onehot/target encoding/"
   ]
  },
  {
   "cell_type": "code",
   "execution_count": 79,
   "metadata": {},
   "outputs": [
    {
     "data": {
      "text/plain": [
       "['name', 'model', 'brand', 'regionCode', 'reg_time']"
      ]
     },
     "execution_count": 79,
     "metadata": {},
     "output_type": "execute_result"
    }
   ],
   "source": [
    "high_cat"
   ]
  },
  {
   "cell_type": "code",
   "execution_count": 80,
   "metadata": {},
   "outputs": [
    {
     "data": {
      "text/plain": [
       "['bodyType', 'fuelType', 'gearbox', 'notRepairedDamage', 'used_time_cut']"
      ]
     },
     "execution_count": 80,
     "metadata": {},
     "output_type": "execute_result"
    }
   ],
   "source": [
    "low_cat"
   ]
  },
  {
   "cell_type": "markdown",
   "metadata": {},
   "source": [
    "* low_cate with onehot"
   ]
  },
  {
   "cell_type": "code",
   "execution_count": 81,
   "metadata": {},
   "outputs": [],
   "source": [
    "ohe=ce.one_hot.OneHotEncoder(verbose=0, cols=low_cat, drop_invariant=True, return_df=True, handle_missing='value', handle_unknown='value', use_cat_names=True)"
   ]
  },
  {
   "cell_type": "code",
   "execution_count": 82,
   "metadata": {},
   "outputs": [],
   "source": [
    "df_ohe=ohe.fit_transform(data[low_cat+[\"SaleID\"]])"
   ]
  },
  {
   "cell_type": "code",
   "execution_count": 83,
   "metadata": {},
   "outputs": [],
   "source": [
    "data_xgb=pd.merge(data_xgb,df_ohe,how=\"left\",on=\"SaleID\")"
   ]
  },
  {
   "cell_type": "code",
   "execution_count": 84,
   "metadata": {},
   "outputs": [],
   "source": [
    "data_xgb.drop(low_cat,axis=1,inplace=True)"
   ]
  },
  {
   "cell_type": "code",
   "execution_count": 85,
   "metadata": {},
   "outputs": [
    {
     "data": {
      "text/plain": [
       "Index(['SaleID', 'name', 'regDate', 'model', 'brand', 'power', 'kilometer',\n",
       "       'regionCode', 'creatDate', 'price',\n",
       "       ...\n",
       "       'fuelType_5.0', 'fuelType_6.0', 'gearbox_0.0', 'gearbox_1.0',\n",
       "       'notRepairedDamage_0.0', 'notRepairedDamage_1.0', 'used_time_cut_3.0',\n",
       "       'used_time_cut_2.0', 'used_time_cut_1.0', 'used_time_cut_0.0'],\n",
       "      dtype='object', length=144)"
      ]
     },
     "execution_count": 85,
     "metadata": {},
     "output_type": "execute_result"
    }
   ],
   "source": [
    "data_xgb.columns"
   ]
  },
  {
   "cell_type": "markdown",
   "metadata": {},
   "source": [
    "* high_cate with target encoding/m_estimate"
   ]
  },
  {
   "cell_type": "code",
   "execution_count": 86,
   "metadata": {},
   "outputs": [],
   "source": [
    "#target_encoder\n",
    "tge=ce.target_encoder.TargetEncoder(verbose=0, cols=high_cat, drop_invariant=True, \n",
    "                                               return_df=True, handle_missing='value', handle_unknown='value',\n",
    "                                               min_samples_leaf=1, smoothing=1.0)\n",
    "X_train=data[data.SaleID<200000].drop(\"price\",axis=1)\n",
    "y_train=data.loc[data.SaleID<200000,\"price\"]\n",
    "df_tge=tge.fit(X_train,y_train).transform(data.drop(\"price\",axis=1))\n",
    "df_tge_onlyhighcate=df_tge[high_cat+[\"SaleID\"]]\n",
    "df_tge_onlyhighcate.columns=[str(i)+\"_tge\" for i in high_cat+[\"SaleID\"]]"
   ]
  },
  {
   "cell_type": "code",
   "execution_count": 87,
   "metadata": {},
   "outputs": [
    {
     "data": {
      "text/plain": [
       "(50000, 6)"
      ]
     },
     "execution_count": 87,
     "metadata": {},
     "output_type": "execute_result"
    }
   ],
   "source": [
    "df_tge_onlyhighcate[df_tge_onlyhighcate.SaleID_tge>=200000].shape"
   ]
  },
  {
   "cell_type": "code",
   "execution_count": 88,
   "metadata": {},
   "outputs": [],
   "source": [
    "data_xgb=pd.merge(data_xgb,df_tge_onlyhighcate,how=\"left\",left_on=\"SaleID\",right_on=\"SaleID_tge\")"
   ]
  },
  {
   "cell_type": "code",
   "execution_count": 92,
   "metadata": {},
   "outputs": [],
   "source": [
    "data_xgb.drop(high_cat+[\"SaleID_tge\"],axis=1,inplace=True)"
   ]
  },
  {
   "cell_type": "code",
   "execution_count": 111,
   "metadata": {},
   "outputs": [
    {
     "name": "stdout",
     "output_type": "stream",
     "text": [
      "Memory usage of dataframe is 95278062.00 MB\n",
      "Memory usage after optimization is: 57782703.00 MB\n",
      "Decreased by 39.4%\n"
     ]
    }
   ],
   "source": [
    "my.reduce_mem_usage(data_xgb).to_csv(\"data_xgb.csv\",index=None)"
   ]
  },
  {
   "cell_type": "markdown",
   "metadata": {},
   "source": [
    "## 1.3 Feature Selection"
   ]
  },
  {
   "cell_type": "markdown",
   "metadata": {},
   "source": [
    "* 过滤式（filter）：先对数据进行特征选择，然后在训练学习器，常见的方法有 Relief/方差选择法/相关系数法/卡方检验法/互信息法；\n",
    "* 包裹式（wrapper）：直接把最终将要使用的学习器的性能作为特征子集的评价准则，常见方法有 LVM（Las Vegas Wrapper） ；\n",
    "* 嵌入式（embedding）：结合过滤式和包裹式，学习器训练过程中自动进行了特征选择，常见的有 lasso 回归；\n",
    "* 降维:PCA/ LDA/ ICA."
   ]
  },
  {
   "cell_type": "markdown",
   "metadata": {},
   "source": [
    "feature_selector可以滤除以下特征：\n",
    "* 具有高missing-values百分比的特征\n",
    "* 具有单个值的特征（即数据集中该特征取值的集合只有一个元素）(方差为0)\n",
    "* 具有高相关性的特征\n",
    "* 对模型预测结果无贡献的特征（即zero importance）\n",
    "* 对模型预测结果只有很小贡献的特征（即low importance）"
   ]
  },
  {
   "cell_type": "markdown",
   "metadata": {},
   "source": [
    "### 1.3.1 pytools: feature_selector"
   ]
  },
  {
   "cell_type": "code",
   "execution_count": 96,
   "metadata": {},
   "outputs": [],
   "source": [
    "from feature_selector import FeatureSelector"
   ]
  },
  {
   "cell_type": "code",
   "execution_count": 97,
   "metadata": {},
   "outputs": [],
   "source": [
    "fs = FeatureSelector(data =data[data.SaleID<200000].drop(\"price\",axis=1), labels = data.loc[data.SaleID<200000,\"price\"])"
   ]
  },
  {
   "cell_type": "code",
   "execution_count": 99,
   "metadata": {},
   "outputs": [],
   "source": [
    "fs_xgb=FeatureSelector(data_xgb[data_xgb.SaleID<200000].drop(\"price\",axis=1), labels = data_xgb.loc[data_xgb.SaleID<200000,\"price\"])"
   ]
  },
  {
   "cell_type": "markdown",
   "metadata": {},
   "source": [
    "* 综合使用全部方法"
   ]
  },
  {
   "cell_type": "code",
   "execution_count": 100,
   "metadata": {},
   "outputs": [
    {
     "name": "stdout",
     "output_type": "stream",
     "text": [
      "2 features with greater than 0.50 missing values.\n",
      "\n",
      "1 features with a single unique value.\n",
      "\n",
      "31 features with a correlation magnitude greater than 0.98.\n",
      "\n",
      "Training Gradient Boosting Model\n",
      "\n",
      "Training until validation scores don't improve for 100 rounds\n",
      "Did not meet early stopping. Best iteration is:\n",
      "[1000]\tvalid_0's l1: 363.553\tvalid_0's l2: 760779\n",
      "Training until validation scores don't improve for 100 rounds\n",
      "Early stopping, best iteration is:\n",
      "[816]\tvalid_0's l1: 357.368\tvalid_0's l2: 738687\n",
      "Training until validation scores don't improve for 100 rounds\n",
      "Did not meet early stopping. Best iteration is:\n",
      "[1000]\tvalid_0's l1: 365.094\tvalid_0's l2: 736951\n",
      "Training until validation scores don't improve for 100 rounds\n",
      "Did not meet early stopping. Best iteration is:\n",
      "[1000]\tvalid_0's l1: 356.759\tvalid_0's l2: 744932\n",
      "Training until validation scores don't improve for 100 rounds\n",
      "Did not meet early stopping. Best iteration is:\n",
      "[1000]\tvalid_0's l1: 363.429\tvalid_0's l2: 736341\n",
      "Training until validation scores don't improve for 100 rounds\n",
      "Did not meet early stopping. Best iteration is:\n",
      "[999]\tvalid_0's l1: 360.364\tvalid_0's l2: 728313\n",
      "Training until validation scores don't improve for 100 rounds\n",
      "Did not meet early stopping. Best iteration is:\n",
      "[998]\tvalid_0's l1: 364.343\tvalid_0's l2: 724784\n",
      "Training until validation scores don't improve for 100 rounds\n",
      "Did not meet early stopping. Best iteration is:\n",
      "[1000]\tvalid_0's l1: 357.826\tvalid_0's l2: 694737\n",
      "Training until validation scores don't improve for 100 rounds\n",
      "Did not meet early stopping. Best iteration is:\n",
      "[1000]\tvalid_0's l1: 365.64\tvalid_0's l2: 790897\n",
      "Training until validation scores don't improve for 100 rounds\n",
      "Did not meet early stopping. Best iteration is:\n",
      "[1000]\tvalid_0's l1: 365.233\tvalid_0's l2: 800773\n",
      "\n",
      "24 features with zero importance after one-hot encoding.\n",
      "\n",
      "78 features required for cumulative importance of 0.99 after one hot encoding.\n",
      "47 features do not contribute to cumulative importance of 0.99.\n",
      "\n",
      "56 total features out of 125 identified for removal after one-hot encoding.\n",
      "\n",
      "['missing', 'single_unique', 'collinear', 'zero_importance', 'low_importance'] methods have been run\n",
      "\n",
      "Removed 56 features.\n",
      "['missing', 'single_unique', 'collinear', 'zero_importance', 'low_importance'] methods have been run\n",
      "\n",
      "Removed 56 features including one-hot features.\n"
     ]
    }
   ],
   "source": [
    "fs.identify_all(selection_params = {'missing_threshold': 0.5, \n",
    " 'correlation_threshold': 0.98, \n",
    " 'task': 'regression', \n",
    " 'eval_metric': 'mae', \n",
    " 'cumulative_importance': 0.99})\n",
    "train_removed = fs.remove(methods = 'all')\n",
    "train_removed_all = fs.remove(methods = 'all', keep_one_hot=False) #返回的df中不包含onehot特征\n",
    "feat_saved=train_removed.columns.tolist()"
   ]
  },
  {
   "cell_type": "code",
   "execution_count": 101,
   "metadata": {},
   "outputs": [
    {
     "name": "stdout",
     "output_type": "stream",
     "text": [
      "2 features with greater than 0.50 missing values.\n",
      "\n",
      "1 features with a single unique value.\n",
      "\n",
      "39 features with a correlation magnitude greater than 0.98.\n",
      "\n",
      "Training Gradient Boosting Model\n",
      "\n",
      "Training until validation scores don't improve for 100 rounds\n",
      "Did not meet early stopping. Best iteration is:\n",
      "[1000]\tvalid_0's l1: 363.552\tvalid_0's l2: 719002\n",
      "Training until validation scores don't improve for 100 rounds\n",
      "Did not meet early stopping. Best iteration is:\n",
      "[1000]\tvalid_0's l1: 369.282\tvalid_0's l2: 878491\n",
      "Training until validation scores don't improve for 100 rounds\n",
      "Did not meet early stopping. Best iteration is:\n",
      "[1000]\tvalid_0's l1: 372.227\tvalid_0's l2: 788135\n",
      "Training until validation scores don't improve for 100 rounds\n",
      "Did not meet early stopping. Best iteration is:\n",
      "[998]\tvalid_0's l1: 356.579\tvalid_0's l2: 663678\n",
      "Training until validation scores don't improve for 100 rounds\n",
      "Did not meet early stopping. Best iteration is:\n",
      "[1000]\tvalid_0's l1: 363.343\tvalid_0's l2: 712594\n",
      "Training until validation scores don't improve for 100 rounds\n",
      "Did not meet early stopping. Best iteration is:\n",
      "[1000]\tvalid_0's l1: 356.282\tvalid_0's l2: 756099\n",
      "Training until validation scores don't improve for 100 rounds\n",
      "Did not meet early stopping. Best iteration is:\n",
      "[1000]\tvalid_0's l1: 364.592\tvalid_0's l2: 737274\n",
      "Training until validation scores don't improve for 100 rounds\n",
      "Did not meet early stopping. Best iteration is:\n",
      "[999]\tvalid_0's l1: 355.124\tvalid_0's l2: 702416\n",
      "Training until validation scores don't improve for 100 rounds\n",
      "Early stopping, best iteration is:\n",
      "[828]\tvalid_0's l1: 367.297\tvalid_0's l2: 764084\n",
      "Training until validation scores don't improve for 100 rounds\n",
      "Did not meet early stopping. Best iteration is:\n",
      "[1000]\tvalid_0's l1: 356.312\tvalid_0's l2: 690123\n",
      "\n",
      "38 features with zero importance after one-hot encoding.\n",
      "\n",
      "77 features required for cumulative importance of 0.99 after one hot encoding.\n",
      "66 features do not contribute to cumulative importance of 0.99.\n",
      "\n",
      "73 total features out of 143 identified for removal after one-hot encoding.\n",
      "\n",
      "['missing', 'single_unique', 'collinear', 'zero_importance', 'low_importance'] methods have been run\n",
      "\n",
      "Removed 73 features.\n",
      "['missing', 'single_unique', 'collinear', 'zero_importance', 'low_importance'] methods have been run\n",
      "\n",
      "Removed 73 features including one-hot features.\n"
     ]
    }
   ],
   "source": [
    "fs_xgb.identify_all(selection_params = {'missing_threshold': 0.5, \n",
    " 'correlation_threshold': 0.98, \n",
    " 'task': 'regression', \n",
    " 'eval_metric': 'mae', \n",
    " 'cumulative_importance': 0.99})\n",
    "train_removed_xgb = fs_xgb.remove(methods = 'all')\n",
    "train_removed_all_xgb = fs_xgb.remove(methods = 'all', keep_one_hot=False) #返回的df中不包含onehot特征\n",
    "feat_saved_xgb=train_removed_xgb.columns.tolist()"
   ]
  },
  {
   "cell_type": "code",
   "execution_count": null,
   "metadata": {},
   "outputs": [],
   "source": [
    "feat_saved_xgb"
   ]
  },
  {
   "cell_type": "code",
   "execution_count": 106,
   "metadata": {},
   "outputs": [],
   "source": [
    "data_sel=data[[label]+feat_saved]"
   ]
  },
  {
   "cell_type": "code",
   "execution_count": 107,
   "metadata": {},
   "outputs": [],
   "source": [
    "data_xgb_sel=data_xgb[[label]+feat_saved_xgb]"
   ]
  },
  {
   "cell_type": "code",
   "execution_count": 112,
   "metadata": {},
   "outputs": [
    {
     "name": "stdout",
     "output_type": "stream",
     "text": [
      "Memory usage of dataframe is 37304129.00 MB\n",
      "Memory usage after optimization is: 36760718.00 MB\n",
      "Decreased by 1.5%\n"
     ]
    }
   ],
   "source": [
    "my.reduce_mem_usage(data_sel).to_csv(\"data_sel.csv\",index=None)"
   ]
  },
  {
   "cell_type": "code",
   "execution_count": 113,
   "metadata": {},
   "outputs": [
    {
     "name": "stdout",
     "output_type": "stream",
     "text": [
      "Memory usage of dataframe is 37133085.00 MB\n",
      "Memory usage after optimization is: 32423523.00 MB\n",
      "Decreased by 12.7%\n"
     ]
    }
   ],
   "source": [
    "my.reduce_mem_usage(data_xgb_sel).to_csv(\"data_xgb_sel.csv\",index=None)"
   ]
  },
  {
   "cell_type": "code",
   "execution_count": null,
   "metadata": {},
   "outputs": [],
   "source": []
  },
  {
   "cell_type": "markdown",
   "metadata": {},
   "source": [
    "* 高missing-values百分比的特征"
   ]
  },
  {
   "cell_type": "code",
   "execution_count": null,
   "metadata": {},
   "outputs": [],
   "source": [
    "fs.identify_missing(missing_threshold = 0.5) #查看缺失值\n",
    "fs.missing_stats.head()"
   ]
  },
  {
   "cell_type": "code",
   "execution_count": null,
   "metadata": {},
   "outputs": [],
   "source": [
    "missing_features = fs.ops['missing']"
   ]
  },
  {
   "cell_type": "code",
   "execution_count": null,
   "metadata": {},
   "outputs": [],
   "source": [
    "missing_features"
   ]
  },
  {
   "cell_type": "code",
   "execution_count": null,
   "metadata": {},
   "outputs": [],
   "source": [
    "fs.plot_missing()"
   ]
  },
  {
   "cell_type": "markdown",
   "metadata": {},
   "source": [
    "* 单个唯一值特征"
   ]
  },
  {
   "cell_type": "code",
   "execution_count": null,
   "metadata": {},
   "outputs": [],
   "source": [
    "fs.identify_single_unique()"
   ]
  },
  {
   "cell_type": "code",
   "execution_count": null,
   "metadata": {},
   "outputs": [],
   "source": [
    "single_unique_features=fs.ops['single_unique']"
   ]
  },
  {
   "cell_type": "code",
   "execution_count": null,
   "metadata": {},
   "outputs": [],
   "source": [
    "single_unique_features"
   ]
  },
  {
   "cell_type": "code",
   "execution_count": null,
   "metadata": {},
   "outputs": [],
   "source": [
    "fs.plot_unique()"
   ]
  },
  {
   "cell_type": "markdown",
   "metadata": {},
   "source": [
    "* 共线性特征"
   ]
  },
  {
   "cell_type": "code",
   "execution_count": null,
   "metadata": {},
   "outputs": [],
   "source": [
    "fs.identify_collinear(correlation_threshold = 0.99)"
   ]
  },
  {
   "cell_type": "code",
   "execution_count": null,
   "metadata": {},
   "outputs": [],
   "source": [
    "fs.plot_collinear()"
   ]
  },
  {
   "cell_type": "code",
   "execution_count": null,
   "metadata": {},
   "outputs": [],
   "source": [
    "# list of collinear features to remove\n",
    "collinear_features = fs.ops['collinear']"
   ]
  },
  {
   "cell_type": "code",
   "execution_count": null,
   "metadata": {},
   "outputs": [],
   "source": [
    "collinear_features[:5]"
   ]
  },
  {
   "cell_type": "code",
   "execution_count": null,
   "metadata": {},
   "outputs": [],
   "source": [
    "# dataframe of collinear features\n",
    "fs.record_collinear.head()"
   ]
  },
  {
   "cell_type": "markdown",
   "metadata": {},
   "source": [
    "* 零重要度特征"
   ]
  },
  {
   "cell_type": "code",
   "execution_count": null,
   "metadata": {},
   "outputs": [],
   "source": [
    "# Pass in the appropriate parameters\n",
    "fs.identify_zero_importance(task = 'regression', \n",
    " eval_metric = 'mae', \n",
    " n_iterations = 10, \n",
    " early_stopping = True)"
   ]
  },
  {
   "cell_type": "code",
   "execution_count": null,
   "metadata": {},
   "outputs": [],
   "source": [
    "# list of zero importance features\n",
    "zero_importance_features = fs.ops['zero_importance']"
   ]
  },
  {
   "cell_type": "code",
   "execution_count": null,
   "metadata": {},
   "outputs": [],
   "source": [
    "len(zero_importance_features )"
   ]
  },
  {
   "cell_type": "code",
   "execution_count": null,
   "metadata": {},
   "outputs": [],
   "source": [
    "fs.feature_importances.head(10).append(fs.feature_importances.tail(10))"
   ]
  },
  {
   "cell_type": "code",
   "execution_count": null,
   "metadata": {},
   "outputs": [],
   "source": [
    "# plot the feature importances\n",
    "fs.plot_feature_importances(threshold = 0.995, plot_n = 12)"
   ]
  },
  {
   "cell_type": "code",
   "execution_count": null,
   "metadata": {},
   "outputs": [],
   "source": [
    "one_hot_features = fs.one_hot_features\n",
    "base_features = fs.base_features\n",
    "print('There are %d original features' % len(base_features))\n",
    "print('There are %d one-hot features' % len(one_hot_features))"
   ]
  },
  {
   "cell_type": "markdown",
   "metadata": {},
   "source": [
    "* 低重要度特征"
   ]
  },
  {
   "cell_type": "code",
   "execution_count": null,
   "metadata": {},
   "outputs": [],
   "source": [
    "fs.identify_low_importance(cumulative_importance = 0.995)"
   ]
  },
  {
   "cell_type": "code",
   "execution_count": null,
   "metadata": {},
   "outputs": [],
   "source": [
    "low_importance_features = fs.ops['low_importance']"
   ]
  },
  {
   "cell_type": "code",
   "execution_count": null,
   "metadata": {},
   "outputs": [],
   "source": [
    "len(low_importance_features)"
   ]
  },
  {
   "cell_type": "markdown",
   "metadata": {},
   "source": [
    "* 需要移除的特征"
   ]
  },
  {
   "cell_type": "code",
   "execution_count": null,
   "metadata": {},
   "outputs": [],
   "source": [
    "drop_feature=list(set(low_importance_features+zero_importance_features+collinear_features+single_unique_features+missing_features))"
   ]
  },
  {
   "cell_type": "code",
   "execution_count": null,
   "metadata": {},
   "outputs": [],
   "source": [
    "len(drop_feature)"
   ]
  },
  {
   "cell_type": "code",
   "execution_count": null,
   "metadata": {},
   "outputs": [],
   "source": [
    "data_sel=data_all.drop(drop_feature,axis=1)"
   ]
  },
  {
   "cell_type": "code",
   "execution_count": null,
   "metadata": {},
   "outputs": [],
   "source": [
    "lgb_cv_valid(data_sel)"
   ]
  },
  {
   "cell_type": "code",
   "execution_count": null,
   "metadata": {},
   "outputs": [],
   "source": [
    "data_sel.to_csv(\"data_sel.csv\")"
   ]
  },
  {
   "cell_type": "markdown",
   "metadata": {},
   "source": [
    "* 移除指定特征"
   ]
  },
  {
   "cell_type": "code",
   "execution_count": null,
   "metadata": {},
   "outputs": [],
   "source": [
    "train_no_missing_zero = fs.remove(methods = ['missing', 'zero_importance'])"
   ]
  },
  {
   "cell_type": "code",
   "execution_count": null,
   "metadata": {},
   "outputs": [],
   "source": [
    "feature_saved=train_removed.columns.tolist() "
   ]
  },
  {
   "cell_type": "code",
   "execution_count": null,
   "metadata": {},
   "outputs": [],
   "source": [
    "data[feature_saved].info()"
   ]
  },
  {
   "cell_type": "code",
   "execution_count": null,
   "metadata": {},
   "outputs": [],
   "source": [
    "#查看特征选择后的mae\n",
    "lgb_cv_valid(pd.concat([data[feature_saved],data[\"price\"]],axis=1))"
   ]
  },
  {
   "cell_type": "markdown",
   "metadata": {},
   "source": [
    "### 1.3.2 Lasso"
   ]
  },
  {
   "cell_type": "code",
   "execution_count": null,
   "metadata": {},
   "outputs": [],
   "source": [
    "def Lasso_feat_drop(train_x,bc_y_train,alpha=0.05): #套索回归，矩阵稀疏，将不重要的特征权重系数设为0\n",
    "    from sklearn.linear_model import Lasso #L1范数正则化\n",
    "    X_train, X_test, y_train, y_test = train_test_split(train_x,bc_y_train, test_size=0.66, random_state=42)\n",
    "    Lasso= Lasso(alpha=alpha)\n",
    "    Lasso.fit(X_train,y_train)\n",
    "    keys=train_x.columns\n",
    "    values=Lasso.coef_\n",
    "    importance=dict(zip(keys,values))\n",
    "    return [k for k, v in importance.items() if v ==0]"
   ]
  },
  {
   "cell_type": "code",
   "execution_count": null,
   "metadata": {},
   "outputs": [],
   "source": [
    "data_lasso=data_all.copy()\n",
    "ls=data_all.columns.tolist()\n",
    "ls.remove(\"price\")\n",
    "for i in ls:\n",
    "    data_lasso[i].fillna(data_lasso[i].mode()[0],inplace=True)"
   ]
  },
  {
   "cell_type": "code",
   "execution_count": null,
   "metadata": {},
   "outputs": [],
   "source": [
    "data_lasso.loc[data_lasso.SaleID<200000,\"price\"].isnull().sum()"
   ]
  },
  {
   "cell_type": "code",
   "execution_count": null,
   "metadata": {},
   "outputs": [],
   "source": [
    "from sklearn.linear_model import Lasso #L1范数正则化\n",
    "Lasso= Lasso(alpha=0.3)\n",
    "Lasso.fit(data_lasso[data_lasso.SaleID<200000].drop(\"price\",axis=1),data_lasso.loc[data_lasso.SaleID<200000,\"price\"])"
   ]
  },
  {
   "cell_type": "code",
   "execution_count": null,
   "metadata": {},
   "outputs": [],
   "source": [
    "lgb_cv_valid(df.drop(feat_lasso_drop,axis=1)) #误差增大，不能滤除这些参数"
   ]
  },
  {
   "cell_type": "markdown",
   "metadata": {},
   "source": [
    "# 2. Model"
   ]
  },
  {
   "cell_type": "markdown",
   "metadata": {},
   "source": [
    "## 2.1 Model-LGBM"
   ]
  },
  {
   "cell_type": "markdown",
   "metadata": {},
   "source": [
    "* Params tuning"
   ]
  },
  {
   "cell_type": "code",
   "execution_count": 184,
   "metadata": {},
   "outputs": [],
   "source": [
    "data=pd.read_csv(\"data.csv\")\n",
    "X_train=data[data.SaleID<200000].drop(\"price\",axis=1)\n",
    "bc_y_train, maxlog= stats.boxcox(data[data.SaleID<200000][\"price\"]) #bc_y 是box-cox后的数据，lamda是变换参数\n",
    "y_train=bc_y_train"
   ]
  },
  {
   "cell_type": "code",
   "execution_count": 139,
   "metadata": {},
   "outputs": [
    {
     "name": "stdout",
     "output_type": "stream",
     "text": [
      "100%|█████████████████████████████████████████████████████████████| 5/5 [16:20<00:00, 196.15s/trial, best loss: 385.36]\n"
     ]
    }
   ],
   "source": [
    "#使用Hyperopt调参\n",
    "from hyperopt import fmin, tpe, hp,Trials,STATUS_OK\n",
    "def f_lgb(params):\n",
    "    clf = lgb.LGBMRegressor(**params)\n",
    "    kf = KFold(n_splits=5, random_state=42)  # sklearn的交叉验证模块，用于划分数据\n",
    "    MAE=[]\n",
    "     # 交叉验证划分此时的训练集和验证集\n",
    "    train_x=X_train\n",
    "    for train, test in kf.split(train_x):\n",
    "        kf_X_tr = train_x.iloc[train]  # 训练集集\n",
    "        kf_y_tr = bc_y_train[train]    # 训练集标签值\n",
    "        kf_X_val =train_x.iloc[test]  # 验证集\n",
    "        kf_y_val = bc_y_train[test]    # 验证集标签值\n",
    "        clf = lgb.LGBMRegressor(objective='regression',metric= 'mae',silent=1,num_leaves=80,learning_rate=0.03, n_estimators=300)\n",
    "        clf.fit(kf_X_tr,kf_y_tr,categorical_feature=cat_feat,verbose=0) \n",
    "        result=clf.predict(kf_X_val)\n",
    "        MAE.append(mean_absolute_error(bcback(kf_y_val,maxlog),bcback(result,maxlog)))\n",
    "    return {'loss': round(np.mean(MAE),2), 'status': STATUS_OK}\n",
    "\n",
    "# hp.normal，hp.lognormal，hp.quniform\n",
    "space_lgb = {\n",
    "        \"objective\":'regression_l1',\n",
    "        \"eval_metric\":\"mae\",\n",
    "        \"n_estimators\":100,\n",
    "        'num_leaves': hp.choice('num_leaves', range(20,130)),\n",
    "        \"learning_rate\":hp.uniform(\"learning_rate\",0.01,0.1),\n",
    "        \"reg_alpha\":hp.uniform(\"reg_alpha\",0,0.05),\n",
    "        \"reg_lambda\":hp.uniform(\"reg_lambda\",0,0.05)}\n",
    "trials = Trials()\n",
    "best1 = fmin(f_lgb, space_lgb, algo=tpe.suggest, max_evals=5, trials=trials)"
   ]
  },
  {
   "cell_type": "code",
   "execution_count": 140,
   "metadata": {},
   "outputs": [
    {
     "data": {
      "text/plain": [
       "{'learning_rate': 0.07922079045340327,\n",
       " 'num_leaves': 26,\n",
       " 'reg_alpha': 0.012492997412838236,\n",
       " 'reg_lambda': 0.025742522365766837}"
      ]
     },
     "execution_count": 140,
     "metadata": {},
     "output_type": "execute_result"
    }
   ],
   "source": [
    "best1 "
   ]
  },
  {
   "cell_type": "code",
   "execution_count": null,
   "metadata": {},
   "outputs": [],
   "source": [
    "fig, ax = plt.subplots(1)#, figsize=(10,10))\n",
    "xs = [t['misc']['vals']['num_leaves'] for t in trials.trials]\n",
    "ys = [-t['result']['loss'] for t in trials.trials]\n",
    "ax.scatter(xs, ys, s=20)\n",
    "# ax.set_title('Iris Dataset - KNN', fontsize=18)\n",
    "ax.set_xlabel('num_leaves', fontsize=12)\n",
    "ax.set_ylabel('cross validation mae', fontsize=12)"
   ]
  },
  {
   "cell_type": "markdown",
   "metadata": {},
   "source": [
    "* result"
   ]
  },
  {
   "cell_type": "code",
   "execution_count": 142,
   "metadata": {},
   "outputs": [
    {
     "data": {
      "text/plain": [
       "LGBMRegressor(boosting_type='gbdt', class_weight=None, colsample_bytree=1.0,\n",
       "              importance_type='split', learning_rate=0.07922079045340327,\n",
       "              max_depth=-1, min_child_samples=20, min_child_weight=0.001,\n",
       "              min_split_gain=0.0, n_estimators=100, n_jobs=-1, num_leaves=26,\n",
       "              objective=None, random_state=None, reg_alpha=0.012492997412838236,\n",
       "              reg_lambda=0.025742522365766837, silent=True, subsample=1.0,\n",
       "              subsample_for_bin=200000, subsample_freq=0)"
      ]
     },
     "execution_count": 142,
     "metadata": {},
     "output_type": "execute_result"
    }
   ],
   "source": [
    "clf = lgb.LGBMRegressor(**best1)\n",
    "clf.fit(X_train, bc_y_train,categorical_feature=cat_feat,verbose=0) "
   ]
  },
  {
   "cell_type": "code",
   "execution_count": 143,
   "metadata": {},
   "outputs": [],
   "source": [
    "test_x=data[data.SaleID>=200000].drop(label,axis=1)\n",
    "predict=clf.predict(test_x)"
   ]
  },
  {
   "cell_type": "code",
   "execution_count": 144,
   "metadata": {},
   "outputs": [
    {
     "data": {
      "text/plain": [
       "<matplotlib.axes._subplots.AxesSubplot at 0x25f8be7f5c8>"
      ]
     },
     "execution_count": 144,
     "metadata": {},
     "output_type": "execute_result"
    },
    {
     "data": {
      "image/png": "[encoded data removed]",
      "text/plain": [
       "<Figure size 432x288 with 1 Axes>"
      ]
     },
     "metadata": {},
     "output_type": "display_data"
    }
   ],
   "source": [
    "sns.distplot(bcback(predict,maxlog))"
   ]
  },
  {
   "cell_type": "code",
   "execution_count": 145,
   "metadata": {},
   "outputs": [],
   "source": [
    "result_lgb=pd.DataFrame()\n",
    "result_lgb[\"SaleID\"]=range(150000,200000)\n",
    "result_lgb[\"price\"]=bcback(predict,maxlog)"
   ]
  },
  {
   "cell_type": "code",
   "execution_count": 146,
   "metadata": {},
   "outputs": [
    {
     "data": {
      "text/plain": [
       "count    50000.000000\n",
       "mean      2107.124008\n",
       "std       4182.227546\n",
       "min         39.100829\n",
       "25%        122.136307\n",
       "50%        186.690342\n",
       "75%       2121.491647\n",
       "max      62813.532771\n",
       "Name: price, dtype: float64"
      ]
     },
     "execution_count": 146,
     "metadata": {},
     "output_type": "execute_result"
    }
   ],
   "source": [
    "result_lgb[\"price\"].describe()"
   ]
  },
  {
   "cell_type": "code",
   "execution_count": 147,
   "metadata": {
    "jupyter": {
     "source_hidden": true
    }
   },
   "outputs": [],
   "source": [
    "result_lgb.to_csv(\"result_lgb.csv\",index=None)"
   ]
  },
  {
   "cell_type": "markdown",
   "metadata": {},
   "source": [
    "## 2.2 Model-CATBOOST"
   ]
  },
  {
   "cell_type": "markdown",
   "metadata": {},
   "source": [
    "* Params tuning"
   ]
  },
  {
   "cell_type": "code",
   "execution_count": 148,
   "metadata": {},
   "outputs": [
    {
     "name": "stdout",
     "output_type": "stream",
     "text": [
      "100%|███████████████████████████████████████████████| 2/2 [58:19<00:00, 1749.51s/trial, best loss: 0.22414662417918302]\n"
     ]
    }
   ],
   "source": [
    "def f_cab(params):\n",
    "    clf = cab.CatBoostRegressor(**params)\n",
    "    kf = KFold(n_splits=5, random_state=42)  # sklearn的交叉验证模块，用于划分数据\n",
    "    MAE=[]\n",
    "     # 交叉验证划分此时的训练集和验证集\n",
    "    train_x=X_train\n",
    "    for train, test in kf.split(train_x):\n",
    "        kf_X_tr = train_x.iloc[train]  # 训练集集\n",
    "        kf_y_tr = bc_y_train[train]    # 训练集标签值\n",
    "        kf_X_val =train_x.iloc[test]  # 验证集\n",
    "        kf_y_val = bc_y_train[test]    # 验证集标签值\n",
    "        clf = lgb.LGBMRegressor(objective='regression',metric= 'mae',silent=1,num_leaves=80,learning_rate=0.03, n_estimators=300)\n",
    "        clf.fit(kf_X_tr,kf_y_tr,categorical_feature=cat_feat,verbose=0) \n",
    "        result=clf.predict(kf_X_val)\n",
    "        MAE.append(mean_absolute_error(bcback(kf_y_val,maxlog),bcback(result,maxlog)))\n",
    "    return {'loss': round(np.mean(MAE),2), 'status': STATUS_OK}\n",
    "\n",
    "# hp.normal，hp.lognormal，hp.quniform\n",
    "space_cab = {\n",
    "        \"loss_function\":'MAE',\n",
    "        \"verbose\":0,\n",
    "        \"n_estimators\":100,\n",
    "        'depth': hp.choice('depth', range(4,15)),\n",
    "        \"learning_rate\":hp.uniform(\"learning_rate\",0.01,0.1),\n",
    "        \"l2_leaf_reg\":hp.uniform(\"l2_leaf_reg\",0,0.05)}\n",
    "trials=Trials()\n",
    "best_cab = fmin(f_cab, space_cab, algo=tpe.suggest, max_evals=2, trials=trials)"
   ]
  },
  {
   "cell_type": "code",
   "execution_count": 155,
   "metadata": {},
   "outputs": [],
   "source": [
    "best_cab ={'learning_rate': 0.06678548500225957, 'depth': 10, 'l2_leaf_reg': 0.011592262655679031,\"loss_function\":'MAE', \"verbose\":0,}"
   ]
  },
  {
   "cell_type": "markdown",
   "metadata": {},
   "source": [
    "* result"
   ]
  },
  {
   "cell_type": "code",
   "execution_count": 151,
   "metadata": {},
   "outputs": [
    {
     "data": {
      "text/plain": [
       "['name',\n",
       " 'model',\n",
       " 'brand',\n",
       " 'bodyType',\n",
       " 'fuelType',\n",
       " 'gearbox',\n",
       " 'notRepairedDamage',\n",
       " 'regionCode',\n",
       " 'reg_time',\n",
       " 'used_time_cut']"
      ]
     },
     "execution_count": 151,
     "metadata": {},
     "output_type": "execute_result"
    }
   ],
   "source": [
    "cat_feat"
   ]
  },
  {
   "cell_type": "code",
   "execution_count": 152,
   "metadata": {},
   "outputs": [],
   "source": [
    "cat_feat_index=[data.columns.tolist().index(i) for i in cat_feat]"
   ]
  },
  {
   "cell_type": "code",
   "execution_count": 157,
   "metadata": {},
   "outputs": [
    {
     "data": {
      "text/plain": [
       "<catboost.core.CatBoostRegressor at 0x25f8ea20648>"
      ]
     },
     "execution_count": 157,
     "metadata": {},
     "output_type": "execute_result"
    }
   ],
   "source": [
    "clf = cab.CatBoostRegressor(**best_cab )\n",
    "clf.fit(X_train, bc_y_train,cat_features=cat_feat_index,verbose=0)"
   ]
  },
  {
   "cell_type": "code",
   "execution_count": 158,
   "metadata": {},
   "outputs": [],
   "source": [
    "test_x=data[data.SaleID>=200000].drop(label,axis=1)\n",
    "predict=clf.predict(test_x)"
   ]
  },
  {
   "cell_type": "code",
   "execution_count": 159,
   "metadata": {},
   "outputs": [
    {
     "data": {
      "text/plain": [
       "<matplotlib.axes._subplots.AxesSubplot at 0x25f8ea36c08>"
      ]
     },
     "execution_count": 159,
     "metadata": {},
     "output_type": "execute_result"
    },
    {
     "data": {
      "image/png": "[encoded data removed]",
      "text/plain": [
       "<Figure size 432x288 with 1 Axes>"
      ]
     },
     "metadata": {},
     "output_type": "display_data"
    }
   ],
   "source": [
    "sns.distplot(bcback(predict,maxlog))"
   ]
  },
  {
   "cell_type": "code",
   "execution_count": 160,
   "metadata": {},
   "outputs": [],
   "source": [
    "result_cab=pd.DataFrame()\n",
    "result_cab[\"SaleID\"]=range(150000,200000)\n",
    "result_cab[\"price\"]=bcback(predict,maxlog)"
   ]
  },
  {
   "cell_type": "code",
   "execution_count": 161,
   "metadata": {},
   "outputs": [
    {
     "data": {
      "text/plain": [
       "count    50000.000000\n",
       "mean      2212.614232\n",
       "std       4059.055011\n",
       "min         37.505177\n",
       "25%        227.531552\n",
       "50%        492.054132\n",
       "75%       2151.080121\n",
       "max      72394.819162\n",
       "Name: price, dtype: float64"
      ]
     },
     "execution_count": 161,
     "metadata": {},
     "output_type": "execute_result"
    }
   ],
   "source": [
    "result_cab[\"price\"].describe()"
   ]
  },
  {
   "cell_type": "code",
   "execution_count": 162,
   "metadata": {},
   "outputs": [],
   "source": [
    "result_cab.to_csv(\"result_cab.csv\",index=None)"
   ]
  },
  {
   "cell_type": "markdown",
   "metadata": {},
   "source": [
    "## 2.2 Model-XGBOOST"
   ]
  },
  {
   "cell_type": "markdown",
   "metadata": {},
   "source": [
    "* Params tuning"
   ]
  },
  {
   "cell_type": "code",
   "execution_count": 179,
   "metadata": {},
   "outputs": [],
   "source": [
    "data=pd.read_csv(\"data_xgb.csv\")\n",
    "X_train=data[data.SaleID<200000].drop(\"price\",axis=1)\n",
    "bc_y_train, maxlog= stats.boxcox(data[data.SaleID<200000][\"price\"]) #bc_y 是box-cox后的数据，lamda是变换参数\n",
    "y_train=bc_y_train"
   ]
  },
  {
   "cell_type": "code",
   "execution_count": 165,
   "metadata": {},
   "outputs": [
    {
     "name": "stdout",
     "output_type": "stream",
     "text": [
      "100%|█████████████████████████████████████████████████████████████| 2/2 [05:35<00:00, 167.87s/trial, best loss: 370.83]\n"
     ]
    }
   ],
   "source": [
    "def f_xgb(params):\n",
    "    clf = xgb.XGBRegressor(**params)\n",
    "    kf = KFold(n_splits=5, random_state=42)  # sklearn的交叉验证模块，用于划分数据\n",
    "    MAE=[]\n",
    "     # 交叉验证划分此时的训练集和验证集\n",
    "    train_x=X_train\n",
    "    for train, test in kf.split(train_x):\n",
    "        kf_X_tr = train_x.iloc[train]  # 训练集集\n",
    "        kf_y_tr = bc_y_train[train]    # 训练集标签值\n",
    "        kf_X_val =train_x.iloc[test]  # 验证集\n",
    "        kf_y_val = bc_y_train[test]    # 验证集标签值\n",
    "        clf = lgb.LGBMRegressor(objective='regression',metric= 'mae',silent=1,num_leaves=80,learning_rate=0.03, n_estimators=300)\n",
    "        clf.fit(kf_X_tr,kf_y_tr,verbose=0) \n",
    "        result=clf.predict(kf_X_val)\n",
    "        MAE.append(mean_absolute_error(bcback(kf_y_val,maxlog),bcback(result,maxlog)))\n",
    "    return {'loss': round(np.mean(MAE),2), 'status': STATUS_OK}\n",
    "\n",
    "# hp.normal，hp.lognormal，hp.quniform\n",
    "space_xgb = {\n",
    "        \"objective\":'reg:squarederror',\n",
    "        \"eval_metric\":\"mae\",\n",
    "        'max_depth': hp.choice('max_depth', range(2,15)),\n",
    "        \"learning_rate\":hp.uniform(\"learning_rate\",0.01,0.1),\n",
    "        \"reg_alpha\":hp.uniform(\"reg_alpha\",0,0.05),\n",
    "        \"reg_lambda\":hp.uniform(\"reg_lambda\",0,0.05)}\n",
    "trials=Trials()\n",
    "best_xgb = fmin(f_xgb, space_xgb, algo=tpe.suggest, max_evals=2, trials=trials)"
   ]
  },
  {
   "cell_type": "markdown",
   "metadata": {},
   "source": [
    "* result"
   ]
  },
  {
   "cell_type": "code",
   "execution_count": 170,
   "metadata": {},
   "outputs": [
    {
     "data": {
      "text/plain": [
       "{'learning_rate': 0.06865186354555616,\n",
       " 'max_depth': 7,\n",
       " 'reg_alpha': 0.00780928407267999,\n",
       " 'reg_lambda': 0.021773428713610057}"
      ]
     },
     "execution_count": 170,
     "metadata": {},
     "output_type": "execute_result"
    }
   ],
   "source": [
    "best_xgb"
   ]
  },
  {
   "cell_type": "code",
   "execution_count": 185,
   "metadata": {},
   "outputs": [
    {
     "data": {
      "text/plain": [
       "XGBRegressor(base_score=0.5, booster='gbtree', colsample_bylevel=1,\n",
       "             colsample_bynode=1, colsample_bytree=1, gamma=0,\n",
       "             importance_type='gain', learning_rate=0.06865186354555616,\n",
       "             max_delta_step=0, max_depth=7, min_child_weight=1, missing=None,\n",
       "             n_estimators=100, n_jobs=1, nthread=None,\n",
       "             objective='reg:squarederror', random_state=0,\n",
       "             reg_alpha=0.00780928407267999, reg_lambda=0.021773428713610057,\n",
       "             scale_pos_weight=1, seed=None, silent=None, subsample=1,\n",
       "             verbosity=1)"
      ]
     },
     "execution_count": 185,
     "metadata": {},
     "output_type": "execute_result"
    }
   ],
   "source": [
    "clf = xgb.XGBRegressor(**best_xgb,objective='reg:squarederror')\n",
    "clf.fit(X_train, bc_y_train)"
   ]
  },
  {
   "cell_type": "code",
   "execution_count": 187,
   "metadata": {},
   "outputs": [],
   "source": [
    "predict=clf.predict(test_x)"
   ]
  },
  {
   "cell_type": "code",
   "execution_count": 188,
   "metadata": {},
   "outputs": [
    {
     "data": {
      "text/plain": [
       "array([], shape=(50000, 0), dtype=float32)"
      ]
     },
     "execution_count": 188,
     "metadata": {},
     "output_type": "execute_result"
    }
   ],
   "source": [
    "predict"
   ]
  },
  {
   "cell_type": "code",
   "execution_count": null,
   "metadata": {},
   "outputs": [],
   "source": [
    "result_xgb=pd.DataFrame()\n",
    "result_xgb[\"SaleID\"]=range(150000,200000)\n",
    "result_xgb[\"price\"]=bcback(predict,maxlog)"
   ]
  },
  {
   "cell_type": "code",
   "execution_count": null,
   "metadata": {},
   "outputs": [],
   "source": [
    "result_xgb[\"price\"].describe()"
   ]
  },
  {
   "cell_type": "code",
   "execution_count": null,
   "metadata": {},
   "outputs": [],
   "source": [
    "result_xgb.to_csv(\"result_xgb.csv\",index=None)"
   ]
  },
  {
   "cell_type": "code",
   "execution_count": null,
   "metadata": {},
   "outputs": [],
   "source": [
    "pasle"
   ]
  },
  {
   "cell_type": "markdown",
   "metadata": {},
   "source": [
    "## 3. Model Ensemble"
   ]
  },
  {
   "cell_type": "markdown",
   "metadata": {},
   "source": [
    "## 3.1 Bagging"
   ]
  },
  {
   "cell_type": "code",
   "execution_count": 193,
   "metadata": {},
   "outputs": [],
   "source": [
    "weight=[0.3,0.3,0.4]\n",
    "y_pred_lgb=pd.read_csv(\"result_lgb.csv\").price\n",
    "y_pred_cab=pd.read_csv(\"result_cab.csv\").price\n",
    "y_pred_cnn=pd.read_csv(\"results_cnn.csv\").price"
   ]
  },
  {
   "cell_type": "code",
   "execution_count": 194,
   "metadata": {},
   "outputs": [],
   "source": [
    "y_pred_weight=weight[0]*pd.Series(y_pred_lgb)+weight[1]*pd.Series(y_pred_cab)+weight[2]*pd.Series(y_pred_cnn)"
   ]
  },
  {
   "cell_type": "code",
   "execution_count": 195,
   "metadata": {},
   "outputs": [
    {
     "data": {
      "text/plain": [
       "0         571.375393\n",
       "1         814.235221\n",
       "2        4047.983903\n",
       "3        1183.835313\n",
       "4         939.369828\n",
       "            ...     \n",
       "49995    2856.212595\n",
       "49996    8684.901791\n",
       "49997    2444.352394\n",
       "49998    2077.224272\n",
       "49999    2290.910907\n",
       "Name: price, Length: 50000, dtype: float64"
      ]
     },
     "execution_count": 195,
     "metadata": {},
     "output_type": "execute_result"
    }
   ],
   "source": [
    "y_pred_weight"
   ]
  },
  {
   "cell_type": "code",
   "execution_count": 197,
   "metadata": {},
   "outputs": [],
   "source": [
    "results=pd.DataFrame()\n",
    "results[\"SaleID\"]=range(150000,200000)\n",
    "results[\"price\"]=y_pred_weight"
   ]
  },
  {
   "cell_type": "code",
   "execution_count": 198,
   "metadata": {},
   "outputs": [
    {
     "data": {
      "text/plain": [
       "count    50000.000000\n",
       "mean      3650.684632\n",
       "std       4454.304926\n",
       "min         40.335827\n",
       "25%        828.363632\n",
       "50%       2014.978772\n",
       "75%       4705.280192\n",
       "max      54905.175980\n",
       "Name: price, dtype: float64"
      ]
     },
     "execution_count": 198,
     "metadata": {},
     "output_type": "execute_result"
    }
   ],
   "source": [
    "results[\"price\"].describe()"
   ]
  },
  {
   "cell_type": "code",
   "execution_count": 200,
   "metadata": {},
   "outputs": [],
   "source": [
    "results.to_csv(\"result_bagging.csv\",index=None)"
   ]
  },
  {
   "cell_type": "markdown",
   "metadata": {},
   "source": [
    "mlgb,mxgb,mcab的权重分别设为0.3，0.5，0.2"
   ]
  },
  {
   "cell_type": "code",
   "execution_count": null,
   "metadata": {},
   "outputs": [],
   "source": [
    " # 采用5折交叉验证\n",
    "def kvalid(X,k=5):\n",
    "    kf = KFold(n_splits=k, random_state=42)  # sklearn的交叉验证模块，用于划分数据\n",
    "    MAE=[]\n",
    "    MAE_lgb=[]\n",
    "    MAE_xgb=[]\n",
    "    MAE_cab=[]\n",
    "     # 交叉验证划分此时的训练集和验证集\n",
    "    for train, test in kf.split(X_train): \n",
    "        kf_X_val = X_train.reset_index(drop=True).iloc[test]  # 验证集\n",
    "        kf_y_val = y_train.reset_index(drop=True).iloc[test]    # 验证集标签值\n",
    "        MAE.append(mean_absolute_error(kf_y_val,weight_ensemble(kf_X_val,[0.3,0.5,0.2])))\n",
    "        MAE_lgb.append(mean_absolute_error(kf_y_val,mlgb.predict(kf_X_val)))\n",
    "        MAE_xgb.append(mean_absolute_error(kf_y_val,mxgb.predict(kf_X_val)))\n",
    "        MAE_cab.append(mean_absolute_error(kf_y_val,mcab.predict(kf_X_val)))\n",
    "    return {\"MAE_ensemble\":round(np.mean(MAE),2),\"MAE_lgb\":round(np.mean(MAE_lgb),2),\n",
    "            \"MAE_xgb\":round(np.mean(MAE_xgb),2),\"MAE_cab\":round(np.mean(MAE_cab),2)}"
   ]
  },
  {
   "cell_type": "code",
   "execution_count": null,
   "metadata": {},
   "outputs": [],
   "source": [
    "kvalid(X_train,k=10)"
   ]
  },
  {
   "cell_type": "code",
   "execution_count": null,
   "metadata": {},
   "outputs": [],
   "source": [
    "y_pred_lgb_bc=box_cox_back(weight_ensemble(X_test,[0.3,0.5,0.2]),maxlog)"
   ]
  },
  {
   "cell_type": "code",
   "execution_count": null,
   "metadata": {},
   "outputs": [],
   "source": [
    "sns.distplot(y_pred_lgb_bc)"
   ]
  },
  {
   "cell_type": "code",
   "execution_count": null,
   "metadata": {},
   "outputs": [],
   "source": [
    "pd.Series(y_pred_lgb_bc).describe()"
   ]
  },
  {
   "cell_type": "code",
   "execution_count": null,
   "metadata": {},
   "outputs": [],
   "source": [
    "kvalid_bc(X_train,k=10)"
   ]
  },
  {
   "cell_type": "markdown",
   "metadata": {},
   "source": [
    "## 3.2 Stacking"
   ]
  },
  {
   "cell_type": "code",
   "execution_count": 189,
   "metadata": {},
   "outputs": [],
   "source": [
    "from mlxtend.regressor import StackingRegressor\n",
    "from mlxtend.data import boston_housing_data\n",
    "from sklearn.linear_model import LinearRegression\n",
    "from sklearn.linear_model import Ridge\n",
    "from sklearn.linear_model import Lasso\n",
    "from sklearn.svm import SVR\n",
    "from sklearn.ensemble import RandomForestRegressor"
   ]
  },
  {
   "cell_type": "code",
   "execution_count": 190,
   "metadata": {},
   "outputs": [],
   "source": [
    "#初始化模型\n",
    "lr = LinearRegression()\n",
    "ridge = Ridge(random_state=1)\n",
    "Lasso = Lasso(random_state=1)\n",
    "svr_lin = SVR(kernel='linear')\n",
    "svr_rbf = SVR(kernel='rbf')\n",
    "rf=RandomForestRegressor()"
   ]
  },
  {
   "cell_type": "code",
   "execution_count": null,
   "metadata": {},
   "outputs": [],
   "source": []
  },
  {
   "cell_type": "code",
   "execution_count": 191,
   "metadata": {},
   "outputs": [
    {
     "data": {
      "text/plain": [
       "<catboost.core.CatBoostRegressor at 0x25f8e5e1a48>"
      ]
     },
     "execution_count": 191,
     "metadata": {},
     "output_type": "execute_result"
    }
   ],
   "source": [
    "mlgb = lgb.LGBMRegressor(**best1)\n",
    "mlgb.fit(X_train, bc_y_train,categorical_feature=cat_feat,verbose=0) \n",
    "mcab = cab.CatBoostRegressor(**best_cab )\n",
    "mcab.fit(X_train, bc_y_train,cat_features=cat_feat_index,verbose=0)"
   ]
  },
  {
   "cell_type": "code",
   "execution_count": null,
   "metadata": {},
   "outputs": [],
   "source": [
    "X_tr=pd.concat([\n",
    "    pd.Series(mlgb.predict(X_train)),\n",
    "    pd.Series(mcab.predict(X_train)),\n",
    "    pd.Series(mcab.predict(X_train))],\n",
    "    axis=1).values\n",
    "X_ts=pd.concat([\n",
    "    pd.Series(mlgb.predict(X_test)),\n",
    "    pd.Series(mxgb.predict(X_test)),\n",
    "    pd.Series(mcab.predict(X_test))],axis=1).values\n",
    "ridge.fit(X_tr,y_train)\n",
    "Stacking_result = ridge.predict(X_ts)"
   ]
  },
  {
   "cell_type": "code",
   "execution_count": null,
   "metadata": {},
   "outputs": [],
   "source": []
  },
  {
   "cell_type": "code",
   "execution_count": null,
   "metadata": {},
   "outputs": [],
   "source": [
    "def Stacking(X_train,bc_y_train,X_test):\n",
    "    svr_rbf = SVR(kernel='rbf')\n",
    "\n",
    "    \n",
    "\n",
    "    return Stacking_result"
   ]
  },
  {
   "cell_type": "code",
   "execution_count": null,
   "metadata": {},
   "outputs": [],
   "source": [
    " # 采用5折交叉验证\n",
    "def kvalid_stacking(X_train,y_train,X_test,k=5):\n",
    "    kf = KFold(n_splits=k, random_state=42)  # sklearn的交叉验证模块，用于划分数据\n",
    "    MAE=[]\n",
    "     # 交叉验证划分此时的训练集和验证集\n",
    "    for train, test in kf.split(X_train):\n",
    "        kf_X_tr = X_train.reset_index(drop=True).iloc[train]  # 训练集集\n",
    "        kf_y_tr = y_train.reset_index(drop=True).iloc[train]    # 训练集标签值\n",
    "        kf_X_val = X_train.reset_index(drop=True).iloc[test]  # 验证集\n",
    "        kf_y_val = y_train.reset_index(drop=True).iloc[test]    # 验证集标签值\n",
    "        MAE.append(mean_absolute_error(kf_y_val,Stacking(kf_X_tr,kf_y_tr,kf_X_val)))\n",
    "    return {\"MAE_stacking\":round(np.mean(MAE),2)}"
   ]
  }
 ],
 "metadata": {
  "kernelspec": {
   "display_name": "Python 3",
   "language": "python",
   "name": "python3"
  },
  "language_info": {
   "codemirror_mode": {
    "name": "ipython",
    "version": 3
   },
   "file_extension": ".py",
   "mimetype": "text/x-python",
   "name": "python",
   "nbconvert_exporter": "python",
   "pygments_lexer": "ipython3",
   "version": "3.7.4"
  }
 },
 "nbformat": 4,
 "nbformat_minor": 4
}
